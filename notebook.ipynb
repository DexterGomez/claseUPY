{
 "cells": [
  {
   "cell_type": "markdown",
   "id": "33edf213",
   "metadata": {},
   "source": [
    "## Install `miniconda`\n",
    "\n",
    "We firstly start by downloading the binary files to install miniconda, it is available for windows, Mac, and Linux. Check documentation for each installation process and requirements.\n",
    "\n",
    "## Create a `conda` enviroment\n",
    "\n",
    "To open a `conda` you need to open `Anaconda PowerShell` on Windows or just use the terminal with Linux/Mac.\n",
    "\n",
    "To create an enviroment:\n",
    "\n",
    "`conda create -n <enviroment name here>`\n",
    "\n",
    "After that, you can activte the enviroment using\n",
    "\n",
    "`conda activate <enviroment name here>`\n",
    "\n",
    "Once you are on the enviroment, you can install python using this command:\n",
    "\n",
    "`conda install python`\n",
    "\n",
    "Now you can use `pip` inside of the `conda` enviroment to install `pandas` and `jupyter-lab` using the command:\n",
    "\n",
    "`pip install pandas jupyterlab`\n",
    "\n",
    "## Move to a working directory\n",
    "\n",
    "Type on the terminal `pwd` to check where are you located within your filesystem.\n",
    "\n",
    "Type `ls` to list the files and directories you have access to.\n",
    "\n",
    "Type `cd <name of the directory>` and now you can type `pwd` again to check you have moved there.\n",
    "\n",
    "To create a new directory you need to type `mkdir <name of the new direcotry>` and you can check with `ls` to find the new directory."
   ]
  },
  {
   "cell_type": "markdown",
   "id": "a8388387",
   "metadata": {},
   "source": [
    "## How to uncompress a zip file doc"
   ]
  },
  {
   "cell_type": "code",
   "execution_count": 141,
   "id": "a746f2ad",
   "metadata": {},
   "outputs": [],
   "source": [
    "import zipfile\n",
    "\n",
    "with zipfile.ZipFile('iter_31_2010_csv.zip', 'r') as zip_ref:\n",
    "    zip_ref.extractall()"
   ]
  },
  {
   "cell_type": "markdown",
   "id": "c12ad5c9",
   "metadata": {},
   "source": [
    "# How to open a pandas dataframe"
   ]
  },
  {
   "cell_type": "code",
   "execution_count": 142,
   "id": "4a9a99fe",
   "metadata": {},
   "outputs": [],
   "source": [
    "import pandas as pd"
   ]
  },
  {
   "cell_type": "code",
   "execution_count": 143,
   "id": "be120e60",
   "metadata": {},
   "outputs": [],
   "source": [
    "data = pd.read_csv('iter_31_cpv2010/conjunto_de_datos/iter_31_cpv2010.csv')"
   ]
  },
  {
   "cell_type": "markdown",
   "id": "dc4ab9f5",
   "metadata": {},
   "source": [
    "Revisamos su tamaño"
   ]
  },
  {
   "cell_type": "code",
   "execution_count": 144,
   "id": "7b73ee3c",
   "metadata": {},
   "outputs": [
    {
     "name": "stdout",
     "output_type": "stream",
     "text": [
      "<class 'pandas.core.frame.DataFrame'>\n",
      "RangeIndex: 2774 entries, 0 to 2773\n",
      "Columns: 200 entries, entidad to tam_loc\n",
      "dtypes: float64(4), int64(6), object(190)\n",
      "memory usage: 4.2+ MB\n"
     ]
    }
   ],
   "source": [
    "data.info()"
   ]
  },
  {
   "cell_type": "markdown",
   "id": "3c742473",
   "metadata": {},
   "source": [
    "Filtramos para quitar totales a nivel estado y municipio"
   ]
  },
  {
   "cell_type": "code",
   "execution_count": 145,
   "id": "33ea9c6a",
   "metadata": {},
   "outputs": [],
   "source": [
    "data = data[(data['mun'] != 0) & (data['loc'] != 0)]"
   ]
  },
  {
   "cell_type": "markdown",
   "id": "32660dcd",
   "metadata": {},
   "source": [
    "Elegimos columnas de interes"
   ]
  },
  {
   "cell_type": "code",
   "execution_count": 146,
   "id": "f2d95f66",
   "metadata": {},
   "outputs": [
    {
     "data": {
      "application/vnd.microsoft.datawrangler.viewer.v0+json": {
       "columns": [
        {
         "name": "index",
         "rawType": "int64",
         "type": "integer"
        },
        {
         "name": "entidad",
         "rawType": "int64",
         "type": "integer"
        },
        {
         "name": "mun",
         "rawType": "int64",
         "type": "integer"
        },
        {
         "name": "nom_mun",
         "rawType": "object",
         "type": "string"
        },
        {
         "name": "pobtot",
         "rawType": "int64",
         "type": "integer"
        },
        {
         "name": "tvivparhab",
         "rawType": "object",
         "type": "string"
        },
        {
         "name": "vivtot",
         "rawType": "int64",
         "type": "integer"
        },
        {
         "name": "vph_snbien",
         "rawType": "object",
         "type": "string"
        }
       ],
       "ref": "25dbc03e-27b5-4792-b8cd-b1af33dbc6e8",
       "rows": [
        [
         "4",
         "31",
         "1",
         "Abalá",
         "1890",
         "525",
         "628",
         "10"
        ],
        [
         "5",
         "31",
         "1",
         "Abalá",
         "494",
         "127",
         "140",
         "19"
        ],
        [
         "6",
         "31",
         "1",
         "Abalá",
         "334",
         "89",
         "94",
         "4"
        ],
        [
         "7",
         "31",
         "1",
         "Abalá",
         "760",
         "185",
         "203",
         "5"
        ],
        [
         "8",
         "31",
         "1",
         "Abalá",
         "2323",
         "542",
         "589",
         "25"
        ],
        [
         "9",
         "31",
         "1",
         "Abalá",
         "271",
         "71",
         "87",
         "2"
        ],
        [
         "10",
         "31",
         "1",
         "Abalá",
         "276",
         "66",
         "84",
         "2"
        ],
        [
         "11",
         "31",
         "1",
         "Abalá",
         "1",
         "*",
         "1",
         "*"
        ],
        [
         "12",
         "31",
         "1",
         "Abalá",
         "7",
         "*",
         "3",
         "*"
        ],
        [
         "13",
         "31",
         "1",
         "Abalá",
         "1",
         "1",
         "1",
         "0"
        ],
        [
         "14",
         "31",
         "1",
         "Abalá",
         "7",
         "2",
         "3",
         "0"
        ],
        [
         "16",
         "31",
         "2",
         "Acanceh",
         "10968",
         "2562",
         "2916",
         "76"
        ],
        [
         "17",
         "31",
         "2",
         "Acanceh",
         "758",
         "219",
         "242",
         "9"
        ],
        [
         "18",
         "31",
         "2",
         "Acanceh",
         "64",
         "14",
         "18",
         "0"
        ],
        [
         "19",
         "31",
         "2",
         "Acanceh",
         "600",
         "151",
         "169",
         "16"
        ],
        [
         "20",
         "31",
         "2",
         "Acanceh",
         "233",
         "61",
         "73",
         "8"
        ],
        [
         "21",
         "31",
         "2",
         "Acanceh",
         "914",
         "208",
         "219",
         "5"
        ],
        [
         "22",
         "31",
         "2",
         "Acanceh",
         "1660",
         "443",
         "483",
         "19"
        ],
        [
         "23",
         "31",
         "2",
         "Acanceh",
         "91",
         "21",
         "23",
         "2"
        ],
        [
         "24",
         "31",
         "2",
         "Acanceh",
         "2",
         "*",
         "1",
         "*"
        ],
        [
         "25",
         "31",
         "2",
         "Acanceh",
         "2",
         "*",
         "1",
         "*"
        ],
        [
         "26",
         "31",
         "2",
         "Acanceh",
         "1",
         "*",
         "1",
         "*"
        ],
        [
         "27",
         "31",
         "2",
         "Acanceh",
         "1",
         "*",
         "1",
         "*"
        ],
        [
         "28",
         "31",
         "2",
         "Acanceh",
         "2",
         "*",
         "1",
         "*"
        ],
        [
         "29",
         "31",
         "2",
         "Acanceh",
         "11",
         "4",
         "4",
         "1"
        ],
        [
         "30",
         "31",
         "2",
         "Acanceh",
         "2",
         "*",
         "1",
         "*"
        ],
        [
         "31",
         "31",
         "2",
         "Acanceh",
         "5",
         "*",
         "1",
         "*"
        ],
        [
         "32",
         "31",
         "2",
         "Acanceh",
         "4",
         "*",
         "1",
         "*"
        ],
        [
         "33",
         "31",
         "2",
         "Acanceh",
         "10",
         "3",
         "4",
         "0"
        ],
        [
         "34",
         "31",
         "2",
         "Acanceh",
         "9",
         "*",
         "1",
         "*"
        ],
        [
         "35",
         "31",
         "2",
         "Acanceh",
         "28",
         "9",
         "9",
         "0"
        ],
        [
         "37",
         "31",
         "3",
         "Akil",
         "10176",
         "2491",
         "2845",
         "203"
        ],
        [
         "38",
         "31",
         "3",
         "Akil",
         "62",
         "17",
         "20",
         "3"
        ],
        [
         "39",
         "31",
         "3",
         "Akil",
         "8",
         "*",
         "4",
         "*"
        ],
        [
         "40",
         "31",
         "3",
         "Akil",
         "19",
         "3",
         "8",
         "2"
        ],
        [
         "41",
         "31",
         "3",
         "Akil",
         "3",
         "*",
         "1",
         "*"
        ],
        [
         "42",
         "31",
         "3",
         "Akil",
         "9",
         "*",
         "1",
         "*"
        ],
        [
         "43",
         "31",
         "3",
         "Akil",
         "17",
         "5",
         "7",
         "1"
        ],
        [
         "44",
         "31",
         "3",
         "Akil",
         "44",
         "10",
         "14",
         "1"
        ],
        [
         "45",
         "31",
         "3",
         "Akil",
         "9",
         "*",
         "1",
         "*"
        ],
        [
         "46",
         "31",
         "3",
         "Akil",
         "8",
         "*",
         "3",
         "*"
        ],
        [
         "47",
         "31",
         "3",
         "Akil",
         "1",
         "*",
         "1",
         "*"
        ],
        [
         "48",
         "31",
         "3",
         "Akil",
         "6",
         "*",
         "1",
         "*"
        ],
        [
         "49",
         "31",
         "3",
         "Akil",
         "28",
         "5",
         "5",
         "2"
        ],
        [
         "50",
         "31",
         "3",
         "Akil",
         "16",
         "4",
         "7",
         "0"
        ],
        [
         "52",
         "31",
         "4",
         "Baca",
         "4553",
         "1251",
         "1522",
         "28"
        ],
        [
         "53",
         "31",
         "4",
         "Baca",
         "209",
         "50",
         "58",
         "3"
        ],
        [
         "54",
         "31",
         "4",
         "Baca",
         "799",
         "219",
         "261",
         "8"
        ],
        [
         "55",
         "31",
         "4",
         "Baca",
         "58",
         "16",
         "25",
         "1"
        ],
        [
         "56",
         "31",
         "4",
         "Baca",
         "3",
         "*",
         "2",
         "*"
        ]
       ],
       "shape": {
        "columns": 7,
        "rows": 2665
       }
      },
      "text/html": [
       "<div>\n",
       "<style scoped>\n",
       "    .dataframe tbody tr th:only-of-type {\n",
       "        vertical-align: middle;\n",
       "    }\n",
       "\n",
       "    .dataframe tbody tr th {\n",
       "        vertical-align: top;\n",
       "    }\n",
       "\n",
       "    .dataframe thead th {\n",
       "        text-align: right;\n",
       "    }\n",
       "</style>\n",
       "<table border=\"1\" class=\"dataframe\">\n",
       "  <thead>\n",
       "    <tr style=\"text-align: right;\">\n",
       "      <th></th>\n",
       "      <th>entidad</th>\n",
       "      <th>mun</th>\n",
       "      <th>nom_mun</th>\n",
       "      <th>pobtot</th>\n",
       "      <th>tvivparhab</th>\n",
       "      <th>vivtot</th>\n",
       "      <th>vph_snbien</th>\n",
       "    </tr>\n",
       "  </thead>\n",
       "  <tbody>\n",
       "    <tr>\n",
       "      <th>4</th>\n",
       "      <td>31</td>\n",
       "      <td>1</td>\n",
       "      <td>Abalá</td>\n",
       "      <td>1890</td>\n",
       "      <td>525</td>\n",
       "      <td>628</td>\n",
       "      <td>10</td>\n",
       "    </tr>\n",
       "    <tr>\n",
       "      <th>5</th>\n",
       "      <td>31</td>\n",
       "      <td>1</td>\n",
       "      <td>Abalá</td>\n",
       "      <td>494</td>\n",
       "      <td>127</td>\n",
       "      <td>140</td>\n",
       "      <td>19</td>\n",
       "    </tr>\n",
       "    <tr>\n",
       "      <th>6</th>\n",
       "      <td>31</td>\n",
       "      <td>1</td>\n",
       "      <td>Abalá</td>\n",
       "      <td>334</td>\n",
       "      <td>89</td>\n",
       "      <td>94</td>\n",
       "      <td>4</td>\n",
       "    </tr>\n",
       "    <tr>\n",
       "      <th>7</th>\n",
       "      <td>31</td>\n",
       "      <td>1</td>\n",
       "      <td>Abalá</td>\n",
       "      <td>760</td>\n",
       "      <td>185</td>\n",
       "      <td>203</td>\n",
       "      <td>5</td>\n",
       "    </tr>\n",
       "    <tr>\n",
       "      <th>8</th>\n",
       "      <td>31</td>\n",
       "      <td>1</td>\n",
       "      <td>Abalá</td>\n",
       "      <td>2323</td>\n",
       "      <td>542</td>\n",
       "      <td>589</td>\n",
       "      <td>25</td>\n",
       "    </tr>\n",
       "    <tr>\n",
       "      <th>...</th>\n",
       "      <td>...</td>\n",
       "      <td>...</td>\n",
       "      <td>...</td>\n",
       "      <td>...</td>\n",
       "      <td>...</td>\n",
       "      <td>...</td>\n",
       "      <td>...</td>\n",
       "    </tr>\n",
       "    <tr>\n",
       "      <th>2769</th>\n",
       "      <td>31</td>\n",
       "      <td>106</td>\n",
       "      <td>Yobaín</td>\n",
       "      <td>6</td>\n",
       "      <td>*</td>\n",
       "      <td>1</td>\n",
       "      <td>*</td>\n",
       "    </tr>\n",
       "    <tr>\n",
       "      <th>2770</th>\n",
       "      <td>31</td>\n",
       "      <td>106</td>\n",
       "      <td>Yobaín</td>\n",
       "      <td>3</td>\n",
       "      <td>*</td>\n",
       "      <td>1</td>\n",
       "      <td>*</td>\n",
       "    </tr>\n",
       "    <tr>\n",
       "      <th>2771</th>\n",
       "      <td>31</td>\n",
       "      <td>106</td>\n",
       "      <td>Yobaín</td>\n",
       "      <td>4</td>\n",
       "      <td>*</td>\n",
       "      <td>2</td>\n",
       "      <td>*</td>\n",
       "    </tr>\n",
       "    <tr>\n",
       "      <th>2772</th>\n",
       "      <td>31</td>\n",
       "      <td>106</td>\n",
       "      <td>Yobaín</td>\n",
       "      <td>7</td>\n",
       "      <td>*</td>\n",
       "      <td>1</td>\n",
       "      <td>*</td>\n",
       "    </tr>\n",
       "    <tr>\n",
       "      <th>2773</th>\n",
       "      <td>31</td>\n",
       "      <td>106</td>\n",
       "      <td>Yobaín</td>\n",
       "      <td>25</td>\n",
       "      <td>6</td>\n",
       "      <td>9</td>\n",
       "      <td>0</td>\n",
       "    </tr>\n",
       "  </tbody>\n",
       "</table>\n",
       "<p>2665 rows × 7 columns</p>\n",
       "</div>"
      ],
      "text/plain": [
       "      entidad  mun nom_mun  pobtot tvivparhab  vivtot vph_snbien\n",
       "4          31    1   Abalá    1890        525     628         10\n",
       "5          31    1   Abalá     494        127     140         19\n",
       "6          31    1   Abalá     334         89      94          4\n",
       "7          31    1   Abalá     760        185     203          5\n",
       "8          31    1   Abalá    2323        542     589         25\n",
       "...       ...  ...     ...     ...        ...     ...        ...\n",
       "2769       31  106  Yobaín       6          *       1          *\n",
       "2770       31  106  Yobaín       3          *       1          *\n",
       "2771       31  106  Yobaín       4          *       2          *\n",
       "2772       31  106  Yobaín       7          *       1          *\n",
       "2773       31  106  Yobaín      25          6       9          0\n",
       "\n",
       "[2665 rows x 7 columns]"
      ]
     },
     "execution_count": 146,
     "metadata": {},
     "output_type": "execute_result"
    }
   ],
   "source": [
    "data = data[['entidad', 'mun', 'nom_mun', 'pobtot', 'tvivparhab', 'vivtot', 'vph_snbien']]\n",
    "data"
   ]
  },
  {
   "cell_type": "markdown",
   "id": "6f31b4ee",
   "metadata": {},
   "source": [
    "Revisamos los tipos de datos, vemos que las ultimas se pusieorn como objects instead of int"
   ]
  },
  {
   "cell_type": "code",
   "execution_count": 147,
   "id": "b00f1ed0",
   "metadata": {},
   "outputs": [
    {
     "name": "stdout",
     "output_type": "stream",
     "text": [
      "<class 'pandas.core.frame.DataFrame'>\n",
      "Index: 2665 entries, 4 to 2773\n",
      "Data columns (total 7 columns):\n",
      " #   Column      Non-Null Count  Dtype \n",
      "---  ------      --------------  ----- \n",
      " 0   entidad     2665 non-null   int64 \n",
      " 1   mun         2665 non-null   int64 \n",
      " 2   nom_mun     2665 non-null   object\n",
      " 3   pobtot      2665 non-null   int64 \n",
      " 4   tvivparhab  2665 non-null   object\n",
      " 5   vivtot      2665 non-null   int64 \n",
      " 6   vph_snbien  2665 non-null   object\n",
      "dtypes: int64(4), object(3)\n",
      "memory usage: 166.6+ KB\n"
     ]
    }
   ],
   "source": [
    "data.info()"
   ]
  },
  {
   "cell_type": "markdown",
   "id": "c231bfeb",
   "metadata": {},
   "source": [
    "Aqui convertimos las columnas a int"
   ]
  },
  {
   "cell_type": "code",
   "execution_count": 148,
   "id": "8fa4c1c5",
   "metadata": {},
   "outputs": [],
   "source": [
    "data['tvivparhab'] = data['tvivparhab'].replace('*', '0')\n",
    "data['tvivparhab'] = data['tvivparhab'].astype(int)\n",
    "data['vivtot'] = data['vivtot'].replace('*', '0')\n",
    "data['vivtot'] = data['vivtot'].astype(int)\n",
    "data['tvivparhab'] = data['tvivparhab'].replace('*', '0')\n",
    "data['tvivparhab'] = data['tvivparhab'].astype(int)\n",
    "data['vph_snbien'] = data['vph_snbien'].replace('*', '0')\n",
    "data['vph_snbien'] = data['vph_snbien'].astype(int)"
   ]
  },
  {
   "cell_type": "markdown",
   "id": "852cf420",
   "metadata": {},
   "source": [
    "Comprobamos"
   ]
  },
  {
   "cell_type": "code",
   "execution_count": 149,
   "id": "d71fd0b1",
   "metadata": {},
   "outputs": [
    {
     "name": "stdout",
     "output_type": "stream",
     "text": [
      "<class 'pandas.core.frame.DataFrame'>\n",
      "Index: 2665 entries, 4 to 2773\n",
      "Data columns (total 7 columns):\n",
      " #   Column      Non-Null Count  Dtype \n",
      "---  ------      --------------  ----- \n",
      " 0   entidad     2665 non-null   int64 \n",
      " 1   mun         2665 non-null   int64 \n",
      " 2   nom_mun     2665 non-null   object\n",
      " 3   pobtot      2665 non-null   int64 \n",
      " 4   tvivparhab  2665 non-null   int64 \n",
      " 5   vivtot      2665 non-null   int64 \n",
      " 6   vph_snbien  2665 non-null   int64 \n",
      "dtypes: int64(6), object(1)\n",
      "memory usage: 166.6+ KB\n"
     ]
    }
   ],
   "source": [
    "data.info()"
   ]
  },
  {
   "cell_type": "code",
   "execution_count": 150,
   "id": "1d2afbda",
   "metadata": {},
   "outputs": [
    {
     "data": {
      "application/vnd.microsoft.datawrangler.viewer.v0+json": {
       "columns": [
        {
         "name": "index",
         "rawType": "int64",
         "type": "integer"
        },
        {
         "name": "entidad",
         "rawType": "int64",
         "type": "integer"
        },
        {
         "name": "mun",
         "rawType": "int64",
         "type": "integer"
        },
        {
         "name": "nom_mun",
         "rawType": "object",
         "type": "string"
        },
        {
         "name": "pobtot",
         "rawType": "int64",
         "type": "integer"
        },
        {
         "name": "tvivparhab",
         "rawType": "int64",
         "type": "integer"
        },
        {
         "name": "vivtot",
         "rawType": "int64",
         "type": "integer"
        },
        {
         "name": "vph_snbien",
         "rawType": "int64",
         "type": "integer"
        }
       ],
       "ref": "888a860c-379b-4e0f-a7a1-1d75d84911a0",
       "rows": [
        [
         "4",
         "31",
         "1",
         "Abalá",
         "1890",
         "525",
         "628",
         "10"
        ],
        [
         "5",
         "31",
         "1",
         "Abalá",
         "494",
         "127",
         "140",
         "19"
        ],
        [
         "6",
         "31",
         "1",
         "Abalá",
         "334",
         "89",
         "94",
         "4"
        ],
        [
         "7",
         "31",
         "1",
         "Abalá",
         "760",
         "185",
         "203",
         "5"
        ],
        [
         "8",
         "31",
         "1",
         "Abalá",
         "2323",
         "542",
         "589",
         "25"
        ],
        [
         "9",
         "31",
         "1",
         "Abalá",
         "271",
         "71",
         "87",
         "2"
        ],
        [
         "10",
         "31",
         "1",
         "Abalá",
         "276",
         "66",
         "84",
         "2"
        ],
        [
         "11",
         "31",
         "1",
         "Abalá",
         "1",
         "0",
         "1",
         "0"
        ],
        [
         "12",
         "31",
         "1",
         "Abalá",
         "7",
         "0",
         "3",
         "0"
        ],
        [
         "13",
         "31",
         "1",
         "Abalá",
         "1",
         "1",
         "1",
         "0"
        ],
        [
         "14",
         "31",
         "1",
         "Abalá",
         "7",
         "2",
         "3",
         "0"
        ],
        [
         "16",
         "31",
         "2",
         "Acanceh",
         "10968",
         "2562",
         "2916",
         "76"
        ],
        [
         "17",
         "31",
         "2",
         "Acanceh",
         "758",
         "219",
         "242",
         "9"
        ],
        [
         "18",
         "31",
         "2",
         "Acanceh",
         "64",
         "14",
         "18",
         "0"
        ],
        [
         "19",
         "31",
         "2",
         "Acanceh",
         "600",
         "151",
         "169",
         "16"
        ],
        [
         "20",
         "31",
         "2",
         "Acanceh",
         "233",
         "61",
         "73",
         "8"
        ],
        [
         "21",
         "31",
         "2",
         "Acanceh",
         "914",
         "208",
         "219",
         "5"
        ],
        [
         "22",
         "31",
         "2",
         "Acanceh",
         "1660",
         "443",
         "483",
         "19"
        ],
        [
         "23",
         "31",
         "2",
         "Acanceh",
         "91",
         "21",
         "23",
         "2"
        ],
        [
         "24",
         "31",
         "2",
         "Acanceh",
         "2",
         "0",
         "1",
         "0"
        ],
        [
         "25",
         "31",
         "2",
         "Acanceh",
         "2",
         "0",
         "1",
         "0"
        ],
        [
         "26",
         "31",
         "2",
         "Acanceh",
         "1",
         "0",
         "1",
         "0"
        ],
        [
         "27",
         "31",
         "2",
         "Acanceh",
         "1",
         "0",
         "1",
         "0"
        ],
        [
         "28",
         "31",
         "2",
         "Acanceh",
         "2",
         "0",
         "1",
         "0"
        ],
        [
         "29",
         "31",
         "2",
         "Acanceh",
         "11",
         "4",
         "4",
         "1"
        ],
        [
         "30",
         "31",
         "2",
         "Acanceh",
         "2",
         "0",
         "1",
         "0"
        ],
        [
         "31",
         "31",
         "2",
         "Acanceh",
         "5",
         "0",
         "1",
         "0"
        ],
        [
         "32",
         "31",
         "2",
         "Acanceh",
         "4",
         "0",
         "1",
         "0"
        ],
        [
         "33",
         "31",
         "2",
         "Acanceh",
         "10",
         "3",
         "4",
         "0"
        ],
        [
         "34",
         "31",
         "2",
         "Acanceh",
         "9",
         "0",
         "1",
         "0"
        ],
        [
         "35",
         "31",
         "2",
         "Acanceh",
         "28",
         "9",
         "9",
         "0"
        ],
        [
         "37",
         "31",
         "3",
         "Akil",
         "10176",
         "2491",
         "2845",
         "203"
        ],
        [
         "38",
         "31",
         "3",
         "Akil",
         "62",
         "17",
         "20",
         "3"
        ],
        [
         "39",
         "31",
         "3",
         "Akil",
         "8",
         "0",
         "4",
         "0"
        ],
        [
         "40",
         "31",
         "3",
         "Akil",
         "19",
         "3",
         "8",
         "2"
        ],
        [
         "41",
         "31",
         "3",
         "Akil",
         "3",
         "0",
         "1",
         "0"
        ],
        [
         "42",
         "31",
         "3",
         "Akil",
         "9",
         "0",
         "1",
         "0"
        ],
        [
         "43",
         "31",
         "3",
         "Akil",
         "17",
         "5",
         "7",
         "1"
        ],
        [
         "44",
         "31",
         "3",
         "Akil",
         "44",
         "10",
         "14",
         "1"
        ],
        [
         "45",
         "31",
         "3",
         "Akil",
         "9",
         "0",
         "1",
         "0"
        ],
        [
         "46",
         "31",
         "3",
         "Akil",
         "8",
         "0",
         "3",
         "0"
        ],
        [
         "47",
         "31",
         "3",
         "Akil",
         "1",
         "0",
         "1",
         "0"
        ],
        [
         "48",
         "31",
         "3",
         "Akil",
         "6",
         "0",
         "1",
         "0"
        ],
        [
         "49",
         "31",
         "3",
         "Akil",
         "28",
         "5",
         "5",
         "2"
        ],
        [
         "50",
         "31",
         "3",
         "Akil",
         "16",
         "4",
         "7",
         "0"
        ],
        [
         "52",
         "31",
         "4",
         "Baca",
         "4553",
         "1251",
         "1522",
         "28"
        ],
        [
         "53",
         "31",
         "4",
         "Baca",
         "209",
         "50",
         "58",
         "3"
        ],
        [
         "54",
         "31",
         "4",
         "Baca",
         "799",
         "219",
         "261",
         "8"
        ],
        [
         "55",
         "31",
         "4",
         "Baca",
         "58",
         "16",
         "25",
         "1"
        ],
        [
         "56",
         "31",
         "4",
         "Baca",
         "3",
         "0",
         "2",
         "0"
        ]
       ],
       "shape": {
        "columns": 7,
        "rows": 2665
       }
      },
      "text/html": [
       "<div>\n",
       "<style scoped>\n",
       "    .dataframe tbody tr th:only-of-type {\n",
       "        vertical-align: middle;\n",
       "    }\n",
       "\n",
       "    .dataframe tbody tr th {\n",
       "        vertical-align: top;\n",
       "    }\n",
       "\n",
       "    .dataframe thead th {\n",
       "        text-align: right;\n",
       "    }\n",
       "</style>\n",
       "<table border=\"1\" class=\"dataframe\">\n",
       "  <thead>\n",
       "    <tr style=\"text-align: right;\">\n",
       "      <th></th>\n",
       "      <th>entidad</th>\n",
       "      <th>mun</th>\n",
       "      <th>nom_mun</th>\n",
       "      <th>pobtot</th>\n",
       "      <th>tvivparhab</th>\n",
       "      <th>vivtot</th>\n",
       "      <th>vph_snbien</th>\n",
       "    </tr>\n",
       "  </thead>\n",
       "  <tbody>\n",
       "    <tr>\n",
       "      <th>4</th>\n",
       "      <td>31</td>\n",
       "      <td>1</td>\n",
       "      <td>Abalá</td>\n",
       "      <td>1890</td>\n",
       "      <td>525</td>\n",
       "      <td>628</td>\n",
       "      <td>10</td>\n",
       "    </tr>\n",
       "    <tr>\n",
       "      <th>5</th>\n",
       "      <td>31</td>\n",
       "      <td>1</td>\n",
       "      <td>Abalá</td>\n",
       "      <td>494</td>\n",
       "      <td>127</td>\n",
       "      <td>140</td>\n",
       "      <td>19</td>\n",
       "    </tr>\n",
       "    <tr>\n",
       "      <th>6</th>\n",
       "      <td>31</td>\n",
       "      <td>1</td>\n",
       "      <td>Abalá</td>\n",
       "      <td>334</td>\n",
       "      <td>89</td>\n",
       "      <td>94</td>\n",
       "      <td>4</td>\n",
       "    </tr>\n",
       "    <tr>\n",
       "      <th>7</th>\n",
       "      <td>31</td>\n",
       "      <td>1</td>\n",
       "      <td>Abalá</td>\n",
       "      <td>760</td>\n",
       "      <td>185</td>\n",
       "      <td>203</td>\n",
       "      <td>5</td>\n",
       "    </tr>\n",
       "    <tr>\n",
       "      <th>8</th>\n",
       "      <td>31</td>\n",
       "      <td>1</td>\n",
       "      <td>Abalá</td>\n",
       "      <td>2323</td>\n",
       "      <td>542</td>\n",
       "      <td>589</td>\n",
       "      <td>25</td>\n",
       "    </tr>\n",
       "    <tr>\n",
       "      <th>...</th>\n",
       "      <td>...</td>\n",
       "      <td>...</td>\n",
       "      <td>...</td>\n",
       "      <td>...</td>\n",
       "      <td>...</td>\n",
       "      <td>...</td>\n",
       "      <td>...</td>\n",
       "    </tr>\n",
       "    <tr>\n",
       "      <th>2769</th>\n",
       "      <td>31</td>\n",
       "      <td>106</td>\n",
       "      <td>Yobaín</td>\n",
       "      <td>6</td>\n",
       "      <td>0</td>\n",
       "      <td>1</td>\n",
       "      <td>0</td>\n",
       "    </tr>\n",
       "    <tr>\n",
       "      <th>2770</th>\n",
       "      <td>31</td>\n",
       "      <td>106</td>\n",
       "      <td>Yobaín</td>\n",
       "      <td>3</td>\n",
       "      <td>0</td>\n",
       "      <td>1</td>\n",
       "      <td>0</td>\n",
       "    </tr>\n",
       "    <tr>\n",
       "      <th>2771</th>\n",
       "      <td>31</td>\n",
       "      <td>106</td>\n",
       "      <td>Yobaín</td>\n",
       "      <td>4</td>\n",
       "      <td>0</td>\n",
       "      <td>2</td>\n",
       "      <td>0</td>\n",
       "    </tr>\n",
       "    <tr>\n",
       "      <th>2772</th>\n",
       "      <td>31</td>\n",
       "      <td>106</td>\n",
       "      <td>Yobaín</td>\n",
       "      <td>7</td>\n",
       "      <td>0</td>\n",
       "      <td>1</td>\n",
       "      <td>0</td>\n",
       "    </tr>\n",
       "    <tr>\n",
       "      <th>2773</th>\n",
       "      <td>31</td>\n",
       "      <td>106</td>\n",
       "      <td>Yobaín</td>\n",
       "      <td>25</td>\n",
       "      <td>6</td>\n",
       "      <td>9</td>\n",
       "      <td>0</td>\n",
       "    </tr>\n",
       "  </tbody>\n",
       "</table>\n",
       "<p>2665 rows × 7 columns</p>\n",
       "</div>"
      ],
      "text/plain": [
       "      entidad  mun nom_mun  pobtot  tvivparhab  vivtot  vph_snbien\n",
       "4          31    1   Abalá    1890         525     628          10\n",
       "5          31    1   Abalá     494         127     140          19\n",
       "6          31    1   Abalá     334          89      94           4\n",
       "7          31    1   Abalá     760         185     203           5\n",
       "8          31    1   Abalá    2323         542     589          25\n",
       "...       ...  ...     ...     ...         ...     ...         ...\n",
       "2769       31  106  Yobaín       6           0       1           0\n",
       "2770       31  106  Yobaín       3           0       1           0\n",
       "2771       31  106  Yobaín       4           0       2           0\n",
       "2772       31  106  Yobaín       7           0       1           0\n",
       "2773       31  106  Yobaín      25           6       9           0\n",
       "\n",
       "[2665 rows x 7 columns]"
      ]
     },
     "execution_count": 150,
     "metadata": {},
     "output_type": "execute_result"
    }
   ],
   "source": [
    "data"
   ]
  },
  {
   "cell_type": "markdown",
   "id": "7a3a359d",
   "metadata": {},
   "source": [
    "Hacemos un group by por municipio"
   ]
  },
  {
   "cell_type": "code",
   "execution_count": 151,
   "id": "947081dc",
   "metadata": {},
   "outputs": [
    {
     "data": {
      "application/vnd.microsoft.datawrangler.viewer.v0+json": {
       "columns": [
        {
         "name": "index",
         "rawType": "int64",
         "type": "integer"
        },
        {
         "name": "entidad",
         "rawType": "int64",
         "type": "integer"
        },
        {
         "name": "mun",
         "rawType": "int64",
         "type": "integer"
        },
        {
         "name": "nom_mun",
         "rawType": "object",
         "type": "string"
        },
        {
         "name": "pobtot",
         "rawType": "int64",
         "type": "integer"
        },
        {
         "name": "tvivparhab",
         "rawType": "int64",
         "type": "integer"
        },
        {
         "name": "vivtot",
         "rawType": "int64",
         "type": "integer"
        },
        {
         "name": "vph_snbien",
         "rawType": "int64",
         "type": "integer"
        }
       ],
       "ref": "df308dd0-23c7-4bec-925a-27f52ec4c272",
       "rows": [
        [
         "0",
         "31",
         "1",
         "Abalá",
         "6364",
         "1608",
         "1833",
         "67"
        ],
        [
         "1",
         "31",
         "2",
         "Acanceh",
         "15365",
         "3695",
         "4169",
         "136"
        ],
        [
         "2",
         "31",
         "3",
         "Akil",
         "10406",
         "2535",
         "2918",
         "212"
        ],
        [
         "3",
         "31",
         "4",
         "Baca",
         "5773",
         "1558",
         "1935",
         "40"
        ],
        [
         "4",
         "31",
         "5",
         "Bokobá",
         "2054",
         "579",
         "763",
         "18"
        ],
        [
         "5",
         "31",
         "6",
         "Buctzotz",
         "8731",
         "2368",
         "3015",
         "136"
        ],
        [
         "6",
         "31",
         "7",
         "Cacalchén",
         "6835",
         "1780",
         "2117",
         "35"
        ],
        [
         "7",
         "31",
         "8",
         "Calotmul",
         "4144",
         "1088",
         "1343",
         "83"
        ],
        [
         "8",
         "31",
         "9",
         "Cansahcab",
         "4703",
         "1285",
         "1596",
         "30"
        ],
        [
         "9",
         "31",
         "10",
         "Cantamayec",
         "2442",
         "531",
         "624",
         "80"
        ],
        [
         "10",
         "31",
         "11",
         "Celestún",
         "6852",
         "1821",
         "2316",
         "96"
        ],
        [
         "11",
         "31",
         "12",
         "Cenotillo",
         "3767",
         "1109",
         "1714",
         "107"
        ],
        [
         "12",
         "31",
         "13",
         "Conkal",
         "9215",
         "2391",
         "2832",
         "33"
        ],
        [
         "13",
         "31",
         "14",
         "Cuncunul",
         "1613",
         "343",
         "401",
         "29"
        ],
        [
         "14",
         "31",
         "15",
         "Cuzamá",
         "4971",
         "1246",
         "1389",
         "52"
        ],
        [
         "15",
         "31",
         "16",
         "Chacsinkín",
         "2823",
         "631",
         "713",
         "74"
        ],
        [
         "16",
         "31",
         "17",
         "Chankom",
         "4485",
         "1042",
         "1219",
         "188"
        ],
        [
         "17",
         "31",
         "18",
         "Chapab",
         "3044",
         "777",
         "983",
         "37"
        ],
        [
         "18",
         "31",
         "19",
         "Chemax",
         "33708",
         "7115",
         "8269",
         "1553"
        ],
        [
         "19",
         "31",
         "20",
         "Chicxulub Pueblo",
         "4138",
         "1071",
         "1225",
         "36"
        ],
        [
         "20",
         "31",
         "21",
         "Chichimilá",
         "8017",
         "1651",
         "2019",
         "326"
        ],
        [
         "21",
         "31",
         "22",
         "Chikindzonot",
         "4170",
         "878",
         "962",
         "122"
        ],
        [
         "22",
         "31",
         "23",
         "Chocholá",
         "4549",
         "1236",
         "1492",
         "25"
        ],
        [
         "23",
         "31",
         "24",
         "Chumayel",
         "3161",
         "743",
         "1000",
         "46"
        ],
        [
         "24",
         "31",
         "25",
         "Dzán",
         "4943",
         "1085",
         "1396",
         "40"
        ],
        [
         "25",
         "31",
         "26",
         "Dzemul",
         "3506",
         "1008",
         "1599",
         "22"
        ],
        [
         "26",
         "31",
         "27",
         "Dzidzantún",
         "8159",
         "2287",
         "3008",
         "75"
        ],
        [
         "27",
         "31",
         "28",
         "Dzilam de Bravo",
         "2494",
         "691",
         "952",
         "26"
        ],
        [
         "28",
         "31",
         "29",
         "Dzilam González",
         "5935",
         "1712",
         "2134",
         "60"
        ],
        [
         "29",
         "31",
         "30",
         "Dzitás",
         "3546",
         "843",
         "1123",
         "89"
        ],
        [
         "30",
         "31",
         "31",
         "Dzoncauich",
         "2774",
         "738",
         "910",
         "77"
        ],
        [
         "31",
         "31",
         "32",
         "Espita",
         "15630",
         "3570",
         "4241",
         "413"
        ],
        [
         "32",
         "31",
         "33",
         "Halachó",
         "19100",
         "4748",
         "5727",
         "336"
        ],
        [
         "33",
         "31",
         "34",
         "Hocabá",
         "6073",
         "1518",
         "1843",
         "113"
        ],
        [
         "34",
         "31",
         "35",
         "Hoctún",
         "5718",
         "1483",
         "1935",
         "87"
        ],
        [
         "35",
         "31",
         "36",
         "Homún",
         "7294",
         "1808",
         "2168",
         "78"
        ],
        [
         "36",
         "31",
         "37",
         "Huhí",
         "4851",
         "1334",
         "1611",
         "72"
        ],
        [
         "37",
         "31",
         "38",
         "Hunucmá",
         "30765",
         "7230",
         "9214",
         "169"
        ],
        [
         "38",
         "31",
         "39",
         "Ixil",
         "3839",
         "925",
         "1114",
         "18"
        ],
        [
         "39",
         "31",
         "40",
         "Izamal",
         "26046",
         "6589",
         "8256",
         "258"
        ],
        [
         "40",
         "31",
         "41",
         "Kanasín",
         "78799",
         "20309",
         "28925",
         "175"
        ],
        [
         "41",
         "31",
         "42",
         "Kantunil",
         "5525",
         "1422",
         "1799",
         "82"
        ],
        [
         "42",
         "31",
         "43",
         "Kaua",
         "2771",
         "639",
         "777",
         "63"
        ],
        [
         "43",
         "31",
         "44",
         "Kinchil",
         "6578",
         "1644",
         "1984",
         "34"
        ],
        [
         "44",
         "31",
         "45",
         "Kopomá",
         "2451",
         "660",
         "768",
         "21"
        ],
        [
         "45",
         "31",
         "46",
         "Mama",
         "2900",
         "757",
         "985",
         "41"
        ],
        [
         "46",
         "31",
         "47",
         "Maní",
         "5292",
         "1241",
         "1616",
         "65"
        ],
        [
         "47",
         "31",
         "48",
         "Maxcanú",
         "21733",
         "5221",
         "5905",
         "331"
        ],
        [
         "48",
         "31",
         "49",
         "Mayapán",
         "3275",
         "756",
         "848",
         "110"
        ],
        [
         "49",
         "31",
         "50",
         "Mérida",
         "831073",
         "229635",
         "287777",
         "1346"
        ]
       ],
       "shape": {
        "columns": 7,
        "rows": 106
       }
      },
      "text/html": [
       "<div>\n",
       "<style scoped>\n",
       "    .dataframe tbody tr th:only-of-type {\n",
       "        vertical-align: middle;\n",
       "    }\n",
       "\n",
       "    .dataframe tbody tr th {\n",
       "        vertical-align: top;\n",
       "    }\n",
       "\n",
       "    .dataframe thead th {\n",
       "        text-align: right;\n",
       "    }\n",
       "</style>\n",
       "<table border=\"1\" class=\"dataframe\">\n",
       "  <thead>\n",
       "    <tr style=\"text-align: right;\">\n",
       "      <th></th>\n",
       "      <th>entidad</th>\n",
       "      <th>mun</th>\n",
       "      <th>nom_mun</th>\n",
       "      <th>pobtot</th>\n",
       "      <th>tvivparhab</th>\n",
       "      <th>vivtot</th>\n",
       "      <th>vph_snbien</th>\n",
       "    </tr>\n",
       "  </thead>\n",
       "  <tbody>\n",
       "    <tr>\n",
       "      <th>0</th>\n",
       "      <td>31</td>\n",
       "      <td>1</td>\n",
       "      <td>Abalá</td>\n",
       "      <td>6364</td>\n",
       "      <td>1608</td>\n",
       "      <td>1833</td>\n",
       "      <td>67</td>\n",
       "    </tr>\n",
       "    <tr>\n",
       "      <th>1</th>\n",
       "      <td>31</td>\n",
       "      <td>2</td>\n",
       "      <td>Acanceh</td>\n",
       "      <td>15365</td>\n",
       "      <td>3695</td>\n",
       "      <td>4169</td>\n",
       "      <td>136</td>\n",
       "    </tr>\n",
       "    <tr>\n",
       "      <th>2</th>\n",
       "      <td>31</td>\n",
       "      <td>3</td>\n",
       "      <td>Akil</td>\n",
       "      <td>10406</td>\n",
       "      <td>2535</td>\n",
       "      <td>2918</td>\n",
       "      <td>212</td>\n",
       "    </tr>\n",
       "    <tr>\n",
       "      <th>3</th>\n",
       "      <td>31</td>\n",
       "      <td>4</td>\n",
       "      <td>Baca</td>\n",
       "      <td>5773</td>\n",
       "      <td>1558</td>\n",
       "      <td>1935</td>\n",
       "      <td>40</td>\n",
       "    </tr>\n",
       "    <tr>\n",
       "      <th>4</th>\n",
       "      <td>31</td>\n",
       "      <td>5</td>\n",
       "      <td>Bokobá</td>\n",
       "      <td>2054</td>\n",
       "      <td>579</td>\n",
       "      <td>763</td>\n",
       "      <td>18</td>\n",
       "    </tr>\n",
       "    <tr>\n",
       "      <th>...</th>\n",
       "      <td>...</td>\n",
       "      <td>...</td>\n",
       "      <td>...</td>\n",
       "      <td>...</td>\n",
       "      <td>...</td>\n",
       "      <td>...</td>\n",
       "      <td>...</td>\n",
       "    </tr>\n",
       "    <tr>\n",
       "      <th>101</th>\n",
       "      <td>31</td>\n",
       "      <td>102</td>\n",
       "      <td>Valladolid</td>\n",
       "      <td>74799</td>\n",
       "      <td>17477</td>\n",
       "      <td>23311</td>\n",
       "      <td>1359</td>\n",
       "    </tr>\n",
       "    <tr>\n",
       "      <th>102</th>\n",
       "      <td>31</td>\n",
       "      <td>103</td>\n",
       "      <td>Xocchel</td>\n",
       "      <td>3243</td>\n",
       "      <td>774</td>\n",
       "      <td>947</td>\n",
       "      <td>54</td>\n",
       "    </tr>\n",
       "    <tr>\n",
       "      <th>103</th>\n",
       "      <td>31</td>\n",
       "      <td>104</td>\n",
       "      <td>Yaxcabá</td>\n",
       "      <td>14895</td>\n",
       "      <td>3436</td>\n",
       "      <td>4023</td>\n",
       "      <td>658</td>\n",
       "    </tr>\n",
       "    <tr>\n",
       "      <th>104</th>\n",
       "      <td>31</td>\n",
       "      <td>105</td>\n",
       "      <td>Yaxkukul</td>\n",
       "      <td>2895</td>\n",
       "      <td>764</td>\n",
       "      <td>897</td>\n",
       "      <td>17</td>\n",
       "    </tr>\n",
       "    <tr>\n",
       "      <th>105</th>\n",
       "      <td>31</td>\n",
       "      <td>106</td>\n",
       "      <td>Yobaín</td>\n",
       "      <td>2162</td>\n",
       "      <td>628</td>\n",
       "      <td>992</td>\n",
       "      <td>20</td>\n",
       "    </tr>\n",
       "  </tbody>\n",
       "</table>\n",
       "<p>106 rows × 7 columns</p>\n",
       "</div>"
      ],
      "text/plain": [
       "     entidad  mun     nom_mun  pobtot  tvivparhab  vivtot  vph_snbien\n",
       "0         31    1       Abalá    6364        1608    1833          67\n",
       "1         31    2     Acanceh   15365        3695    4169         136\n",
       "2         31    3        Akil   10406        2535    2918         212\n",
       "3         31    4        Baca    5773        1558    1935          40\n",
       "4         31    5      Bokobá    2054         579     763          18\n",
       "..       ...  ...         ...     ...         ...     ...         ...\n",
       "101       31  102  Valladolid   74799       17477   23311        1359\n",
       "102       31  103     Xocchel    3243         774     947          54\n",
       "103       31  104     Yaxcabá   14895        3436    4023         658\n",
       "104       31  105    Yaxkukul    2895         764     897          17\n",
       "105       31  106      Yobaín    2162         628     992          20\n",
       "\n",
       "[106 rows x 7 columns]"
      ]
     },
     "execution_count": 151,
     "metadata": {},
     "output_type": "execute_result"
    }
   ],
   "source": [
    "clean_data = data.groupby(['entidad', 'mun', 'nom_mun']).sum().reset_index()\n",
    "clean_data"
   ]
  },
  {
   "cell_type": "markdown",
   "id": "fad5f4b2",
   "metadata": {},
   "source": [
    "Sacamos densidades de las variables que teniamos, ploteamos, y analizamos"
   ]
  },
  {
   "cell_type": "code",
   "execution_count": 152,
   "id": "1533767c",
   "metadata": {},
   "outputs": [],
   "source": [
    "densidad_vivienda = clean_data['pobtot'] / clean_data['tvivparhab']"
   ]
  },
  {
   "cell_type": "code",
   "execution_count": 153,
   "id": "d7d85ef8",
   "metadata": {},
   "outputs": [
    {
     "data": {
      "application/vnd.microsoft.datawrangler.viewer.v0+json": {
       "columns": [
        {
         "name": "index",
         "rawType": "int64",
         "type": "integer"
        },
        {
         "name": "0",
         "rawType": "float64",
         "type": "float"
        }
       ],
       "ref": "19eed438-52da-4a2e-ace6-0f81ac1f8a98",
       "rows": [
        [
         "0",
         "3.95771144278607"
        ],
        [
         "1",
         "4.158322056833559"
        ],
        [
         "2",
         "4.104930966469428"
        ],
        [
         "3",
         "3.7053915275994864"
        ],
        [
         "4",
         "3.547495682210708"
        ],
        [
         "5",
         "3.6870777027027026"
        ],
        [
         "6",
         "3.8398876404494384"
        ],
        [
         "7",
         "3.8088235294117645"
        ],
        [
         "8",
         "3.6599221789883267"
        ],
        [
         "9",
         "4.598870056497175"
        ],
        [
         "10",
         "3.7627677100494235"
        ],
        [
         "11",
         "3.3967538322813344"
        ],
        [
         "12",
         "3.8540359682141365"
        ],
        [
         "13",
         "4.702623906705539"
        ],
        [
         "14",
         "3.989566613162119"
        ],
        [
         "15",
         "4.473851030110935"
        ],
        [
         "16",
         "4.3042226487524"
        ],
        [
         "17",
         "3.9176319176319176"
        ],
        [
         "18",
         "4.737596626844694"
        ],
        [
         "19",
         "3.8636788048552755"
        ],
        [
         "20",
         "4.8558449424591155"
        ],
        [
         "21",
         "4.7494305239179955"
        ],
        [
         "22",
         "3.68042071197411"
        ],
        [
         "23",
         "4.2543741588156125"
        ],
        [
         "24",
         "4.555760368663594"
        ],
        [
         "25",
         "3.4781746031746033"
        ],
        [
         "26",
         "3.5675557498906865"
        ],
        [
         "27",
         "3.609261939218524"
        ],
        [
         "28",
         "3.4667056074766354"
        ],
        [
         "29",
         "4.2064056939501775"
        ],
        [
         "30",
         "3.758807588075881"
        ],
        [
         "31",
         "4.378151260504202"
        ],
        [
         "32",
         "4.022746419545071"
        ],
        [
         "33",
         "4.000658761528327"
        ],
        [
         "34",
         "3.8556979096426165"
        ],
        [
         "35",
         "4.03429203539823"
        ],
        [
         "36",
         "3.636431784107946"
        ],
        [
         "37",
         "4.255186721991701"
        ],
        [
         "38",
         "4.15027027027027"
        ],
        [
         "39",
         "3.9529518895128244"
        ],
        [
         "40",
         "3.8800039391402827"
        ],
        [
         "41",
         "3.8853727144866386"
        ],
        [
         "42",
         "4.336463223787168"
        ],
        [
         "43",
         "4.0012165450121655"
        ],
        [
         "44",
         "3.713636363636364"
        ],
        [
         "45",
         "3.830911492734478"
        ],
        [
         "46",
         "4.264302981466559"
        ],
        [
         "47",
         "4.162612526335951"
        ],
        [
         "48",
         "4.332010582010582"
        ],
        [
         "49",
         "3.6191042306268644"
        ]
       ],
       "shape": {
        "columns": 1,
        "rows": 106
       }
      },
      "text/plain": [
       "0      3.957711\n",
       "1      4.158322\n",
       "2      4.104931\n",
       "3      3.705392\n",
       "4      3.547496\n",
       "         ...   \n",
       "101    4.279854\n",
       "102    4.189922\n",
       "103    4.334983\n",
       "104    3.789267\n",
       "105    3.442675\n",
       "Length: 106, dtype: float64"
      ]
     },
     "execution_count": 153,
     "metadata": {},
     "output_type": "execute_result"
    }
   ],
   "source": [
    "densidad_vivienda"
   ]
  },
  {
   "cell_type": "code",
   "execution_count": 154,
   "id": "cf645856",
   "metadata": {},
   "outputs": [
    {
     "data": {
      "application/vnd.microsoft.datawrangler.viewer.v0+json": {
       "columns": [
        {
         "name": "index",
         "rawType": "int64",
         "type": "integer"
        },
        {
         "name": "entidad",
         "rawType": "int64",
         "type": "integer"
        },
        {
         "name": "mun",
         "rawType": "int64",
         "type": "integer"
        },
        {
         "name": "nom_mun",
         "rawType": "object",
         "type": "string"
        },
        {
         "name": "pobtot",
         "rawType": "int64",
         "type": "integer"
        },
        {
         "name": "tvivparhab",
         "rawType": "int64",
         "type": "integer"
        },
        {
         "name": "vivtot",
         "rawType": "int64",
         "type": "integer"
        },
        {
         "name": "vph_snbien",
         "rawType": "int64",
         "type": "integer"
        },
        {
         "name": "densidad_vivienda",
         "rawType": "float64",
         "type": "float"
        }
       ],
       "ref": "04b4c9b9-994c-4fb2-9706-e7e4313cb5cd",
       "rows": [
        [
         "0",
         "31",
         "1",
         "Abalá",
         "6364",
         "1608",
         "1833",
         "67",
         "3.95771144278607"
        ],
        [
         "1",
         "31",
         "2",
         "Acanceh",
         "15365",
         "3695",
         "4169",
         "136",
         "4.158322056833559"
        ],
        [
         "2",
         "31",
         "3",
         "Akil",
         "10406",
         "2535",
         "2918",
         "212",
         "4.104930966469428"
        ],
        [
         "3",
         "31",
         "4",
         "Baca",
         "5773",
         "1558",
         "1935",
         "40",
         "3.7053915275994864"
        ],
        [
         "4",
         "31",
         "5",
         "Bokobá",
         "2054",
         "579",
         "763",
         "18",
         "3.547495682210708"
        ],
        [
         "5",
         "31",
         "6",
         "Buctzotz",
         "8731",
         "2368",
         "3015",
         "136",
         "3.6870777027027026"
        ],
        [
         "6",
         "31",
         "7",
         "Cacalchén",
         "6835",
         "1780",
         "2117",
         "35",
         "3.8398876404494384"
        ],
        [
         "7",
         "31",
         "8",
         "Calotmul",
         "4144",
         "1088",
         "1343",
         "83",
         "3.8088235294117645"
        ],
        [
         "8",
         "31",
         "9",
         "Cansahcab",
         "4703",
         "1285",
         "1596",
         "30",
         "3.6599221789883267"
        ],
        [
         "9",
         "31",
         "10",
         "Cantamayec",
         "2442",
         "531",
         "624",
         "80",
         "4.598870056497175"
        ],
        [
         "10",
         "31",
         "11",
         "Celestún",
         "6852",
         "1821",
         "2316",
         "96",
         "3.7627677100494235"
        ],
        [
         "11",
         "31",
         "12",
         "Cenotillo",
         "3767",
         "1109",
         "1714",
         "107",
         "3.3967538322813344"
        ],
        [
         "12",
         "31",
         "13",
         "Conkal",
         "9215",
         "2391",
         "2832",
         "33",
         "3.8540359682141365"
        ],
        [
         "13",
         "31",
         "14",
         "Cuncunul",
         "1613",
         "343",
         "401",
         "29",
         "4.702623906705539"
        ],
        [
         "14",
         "31",
         "15",
         "Cuzamá",
         "4971",
         "1246",
         "1389",
         "52",
         "3.989566613162119"
        ],
        [
         "15",
         "31",
         "16",
         "Chacsinkín",
         "2823",
         "631",
         "713",
         "74",
         "4.473851030110935"
        ],
        [
         "16",
         "31",
         "17",
         "Chankom",
         "4485",
         "1042",
         "1219",
         "188",
         "4.3042226487524"
        ],
        [
         "17",
         "31",
         "18",
         "Chapab",
         "3044",
         "777",
         "983",
         "37",
         "3.9176319176319176"
        ],
        [
         "18",
         "31",
         "19",
         "Chemax",
         "33708",
         "7115",
         "8269",
         "1553",
         "4.737596626844694"
        ],
        [
         "19",
         "31",
         "20",
         "Chicxulub Pueblo",
         "4138",
         "1071",
         "1225",
         "36",
         "3.8636788048552755"
        ],
        [
         "20",
         "31",
         "21",
         "Chichimilá",
         "8017",
         "1651",
         "2019",
         "326",
         "4.8558449424591155"
        ],
        [
         "21",
         "31",
         "22",
         "Chikindzonot",
         "4170",
         "878",
         "962",
         "122",
         "4.7494305239179955"
        ],
        [
         "22",
         "31",
         "23",
         "Chocholá",
         "4549",
         "1236",
         "1492",
         "25",
         "3.68042071197411"
        ],
        [
         "23",
         "31",
         "24",
         "Chumayel",
         "3161",
         "743",
         "1000",
         "46",
         "4.2543741588156125"
        ],
        [
         "24",
         "31",
         "25",
         "Dzán",
         "4943",
         "1085",
         "1396",
         "40",
         "4.555760368663594"
        ],
        [
         "25",
         "31",
         "26",
         "Dzemul",
         "3506",
         "1008",
         "1599",
         "22",
         "3.4781746031746033"
        ],
        [
         "26",
         "31",
         "27",
         "Dzidzantún",
         "8159",
         "2287",
         "3008",
         "75",
         "3.5675557498906865"
        ],
        [
         "27",
         "31",
         "28",
         "Dzilam de Bravo",
         "2494",
         "691",
         "952",
         "26",
         "3.609261939218524"
        ],
        [
         "28",
         "31",
         "29",
         "Dzilam González",
         "5935",
         "1712",
         "2134",
         "60",
         "3.4667056074766354"
        ],
        [
         "29",
         "31",
         "30",
         "Dzitás",
         "3546",
         "843",
         "1123",
         "89",
         "4.2064056939501775"
        ],
        [
         "30",
         "31",
         "31",
         "Dzoncauich",
         "2774",
         "738",
         "910",
         "77",
         "3.758807588075881"
        ],
        [
         "31",
         "31",
         "32",
         "Espita",
         "15630",
         "3570",
         "4241",
         "413",
         "4.378151260504202"
        ],
        [
         "32",
         "31",
         "33",
         "Halachó",
         "19100",
         "4748",
         "5727",
         "336",
         "4.022746419545071"
        ],
        [
         "33",
         "31",
         "34",
         "Hocabá",
         "6073",
         "1518",
         "1843",
         "113",
         "4.000658761528327"
        ],
        [
         "34",
         "31",
         "35",
         "Hoctún",
         "5718",
         "1483",
         "1935",
         "87",
         "3.8556979096426165"
        ],
        [
         "35",
         "31",
         "36",
         "Homún",
         "7294",
         "1808",
         "2168",
         "78",
         "4.03429203539823"
        ],
        [
         "36",
         "31",
         "37",
         "Huhí",
         "4851",
         "1334",
         "1611",
         "72",
         "3.636431784107946"
        ],
        [
         "37",
         "31",
         "38",
         "Hunucmá",
         "30765",
         "7230",
         "9214",
         "169",
         "4.255186721991701"
        ],
        [
         "38",
         "31",
         "39",
         "Ixil",
         "3839",
         "925",
         "1114",
         "18",
         "4.15027027027027"
        ],
        [
         "39",
         "31",
         "40",
         "Izamal",
         "26046",
         "6589",
         "8256",
         "258",
         "3.9529518895128244"
        ],
        [
         "40",
         "31",
         "41",
         "Kanasín",
         "78799",
         "20309",
         "28925",
         "175",
         "3.8800039391402827"
        ],
        [
         "41",
         "31",
         "42",
         "Kantunil",
         "5525",
         "1422",
         "1799",
         "82",
         "3.8853727144866386"
        ],
        [
         "42",
         "31",
         "43",
         "Kaua",
         "2771",
         "639",
         "777",
         "63",
         "4.336463223787168"
        ],
        [
         "43",
         "31",
         "44",
         "Kinchil",
         "6578",
         "1644",
         "1984",
         "34",
         "4.0012165450121655"
        ],
        [
         "44",
         "31",
         "45",
         "Kopomá",
         "2451",
         "660",
         "768",
         "21",
         "3.713636363636364"
        ],
        [
         "45",
         "31",
         "46",
         "Mama",
         "2900",
         "757",
         "985",
         "41",
         "3.830911492734478"
        ],
        [
         "46",
         "31",
         "47",
         "Maní",
         "5292",
         "1241",
         "1616",
         "65",
         "4.264302981466559"
        ],
        [
         "47",
         "31",
         "48",
         "Maxcanú",
         "21733",
         "5221",
         "5905",
         "331",
         "4.162612526335951"
        ],
        [
         "48",
         "31",
         "49",
         "Mayapán",
         "3275",
         "756",
         "848",
         "110",
         "4.332010582010582"
        ],
        [
         "49",
         "31",
         "50",
         "Mérida",
         "831073",
         "229635",
         "287777",
         "1346",
         "3.6191042306268644"
        ]
       ],
       "shape": {
        "columns": 8,
        "rows": 106
       }
      },
      "text/html": [
       "<div>\n",
       "<style scoped>\n",
       "    .dataframe tbody tr th:only-of-type {\n",
       "        vertical-align: middle;\n",
       "    }\n",
       "\n",
       "    .dataframe tbody tr th {\n",
       "        vertical-align: top;\n",
       "    }\n",
       "\n",
       "    .dataframe thead th {\n",
       "        text-align: right;\n",
       "    }\n",
       "</style>\n",
       "<table border=\"1\" class=\"dataframe\">\n",
       "  <thead>\n",
       "    <tr style=\"text-align: right;\">\n",
       "      <th></th>\n",
       "      <th>entidad</th>\n",
       "      <th>mun</th>\n",
       "      <th>nom_mun</th>\n",
       "      <th>pobtot</th>\n",
       "      <th>tvivparhab</th>\n",
       "      <th>vivtot</th>\n",
       "      <th>vph_snbien</th>\n",
       "      <th>densidad_vivienda</th>\n",
       "    </tr>\n",
       "  </thead>\n",
       "  <tbody>\n",
       "    <tr>\n",
       "      <th>0</th>\n",
       "      <td>31</td>\n",
       "      <td>1</td>\n",
       "      <td>Abalá</td>\n",
       "      <td>6364</td>\n",
       "      <td>1608</td>\n",
       "      <td>1833</td>\n",
       "      <td>67</td>\n",
       "      <td>3.957711</td>\n",
       "    </tr>\n",
       "    <tr>\n",
       "      <th>1</th>\n",
       "      <td>31</td>\n",
       "      <td>2</td>\n",
       "      <td>Acanceh</td>\n",
       "      <td>15365</td>\n",
       "      <td>3695</td>\n",
       "      <td>4169</td>\n",
       "      <td>136</td>\n",
       "      <td>4.158322</td>\n",
       "    </tr>\n",
       "    <tr>\n",
       "      <th>2</th>\n",
       "      <td>31</td>\n",
       "      <td>3</td>\n",
       "      <td>Akil</td>\n",
       "      <td>10406</td>\n",
       "      <td>2535</td>\n",
       "      <td>2918</td>\n",
       "      <td>212</td>\n",
       "      <td>4.104931</td>\n",
       "    </tr>\n",
       "    <tr>\n",
       "      <th>3</th>\n",
       "      <td>31</td>\n",
       "      <td>4</td>\n",
       "      <td>Baca</td>\n",
       "      <td>5773</td>\n",
       "      <td>1558</td>\n",
       "      <td>1935</td>\n",
       "      <td>40</td>\n",
       "      <td>3.705392</td>\n",
       "    </tr>\n",
       "    <tr>\n",
       "      <th>4</th>\n",
       "      <td>31</td>\n",
       "      <td>5</td>\n",
       "      <td>Bokobá</td>\n",
       "      <td>2054</td>\n",
       "      <td>579</td>\n",
       "      <td>763</td>\n",
       "      <td>18</td>\n",
       "      <td>3.547496</td>\n",
       "    </tr>\n",
       "    <tr>\n",
       "      <th>...</th>\n",
       "      <td>...</td>\n",
       "      <td>...</td>\n",
       "      <td>...</td>\n",
       "      <td>...</td>\n",
       "      <td>...</td>\n",
       "      <td>...</td>\n",
       "      <td>...</td>\n",
       "      <td>...</td>\n",
       "    </tr>\n",
       "    <tr>\n",
       "      <th>101</th>\n",
       "      <td>31</td>\n",
       "      <td>102</td>\n",
       "      <td>Valladolid</td>\n",
       "      <td>74799</td>\n",
       "      <td>17477</td>\n",
       "      <td>23311</td>\n",
       "      <td>1359</td>\n",
       "      <td>4.279854</td>\n",
       "    </tr>\n",
       "    <tr>\n",
       "      <th>102</th>\n",
       "      <td>31</td>\n",
       "      <td>103</td>\n",
       "      <td>Xocchel</td>\n",
       "      <td>3243</td>\n",
       "      <td>774</td>\n",
       "      <td>947</td>\n",
       "      <td>54</td>\n",
       "      <td>4.189922</td>\n",
       "    </tr>\n",
       "    <tr>\n",
       "      <th>103</th>\n",
       "      <td>31</td>\n",
       "      <td>104</td>\n",
       "      <td>Yaxcabá</td>\n",
       "      <td>14895</td>\n",
       "      <td>3436</td>\n",
       "      <td>4023</td>\n",
       "      <td>658</td>\n",
       "      <td>4.334983</td>\n",
       "    </tr>\n",
       "    <tr>\n",
       "      <th>104</th>\n",
       "      <td>31</td>\n",
       "      <td>105</td>\n",
       "      <td>Yaxkukul</td>\n",
       "      <td>2895</td>\n",
       "      <td>764</td>\n",
       "      <td>897</td>\n",
       "      <td>17</td>\n",
       "      <td>3.789267</td>\n",
       "    </tr>\n",
       "    <tr>\n",
       "      <th>105</th>\n",
       "      <td>31</td>\n",
       "      <td>106</td>\n",
       "      <td>Yobaín</td>\n",
       "      <td>2162</td>\n",
       "      <td>628</td>\n",
       "      <td>992</td>\n",
       "      <td>20</td>\n",
       "      <td>3.442675</td>\n",
       "    </tr>\n",
       "  </tbody>\n",
       "</table>\n",
       "<p>106 rows × 8 columns</p>\n",
       "</div>"
      ],
      "text/plain": [
       "     entidad  mun     nom_mun  pobtot  tvivparhab  vivtot  vph_snbien  \\\n",
       "0         31    1       Abalá    6364        1608    1833          67   \n",
       "1         31    2     Acanceh   15365        3695    4169         136   \n",
       "2         31    3        Akil   10406        2535    2918         212   \n",
       "3         31    4        Baca    5773        1558    1935          40   \n",
       "4         31    5      Bokobá    2054         579     763          18   \n",
       "..       ...  ...         ...     ...         ...     ...         ...   \n",
       "101       31  102  Valladolid   74799       17477   23311        1359   \n",
       "102       31  103     Xocchel    3243         774     947          54   \n",
       "103       31  104     Yaxcabá   14895        3436    4023         658   \n",
       "104       31  105    Yaxkukul    2895         764     897          17   \n",
       "105       31  106      Yobaín    2162         628     992          20   \n",
       "\n",
       "     densidad_vivienda  \n",
       "0             3.957711  \n",
       "1             4.158322  \n",
       "2             4.104931  \n",
       "3             3.705392  \n",
       "4             3.547496  \n",
       "..                 ...  \n",
       "101           4.279854  \n",
       "102           4.189922  \n",
       "103           4.334983  \n",
       "104           3.789267  \n",
       "105           3.442675  \n",
       "\n",
       "[106 rows x 8 columns]"
      ]
     },
     "execution_count": 154,
     "metadata": {},
     "output_type": "execute_result"
    }
   ],
   "source": [
    "clean_data['densidad_vivienda'] = densidad_vivienda\n",
    "clean_data"
   ]
  },
  {
   "cell_type": "code",
   "execution_count": 155,
   "id": "d5284b68",
   "metadata": {},
   "outputs": [
    {
     "data": {
      "text/plain": [
       "<Axes: >"
      ]
     },
     "execution_count": 155,
     "metadata": {},
     "output_type": "execute_result"
    },
    {
     "data": {
      "image/png": "[encoded data removed]",
      "text/plain": [
       "<Figure size 640x480 with 1 Axes>"
      ]
     },
     "metadata": {},
     "output_type": "display_data"
    }
   ],
   "source": [
    "clean_data.sort_values('densidad_vivienda')['densidad_vivienda'].plot(kind='box')"
   ]
  },
  {
   "cell_type": "code",
   "execution_count": 156,
   "id": "1a941b40",
   "metadata": {},
   "outputs": [],
   "source": [
    "densidad_cantidad_de_casitas = clean_data['tvivparhab'] / clean_data['vivtot']\n",
    "clean_data['ratio_casas_ocupadas'] = densidad_cantidad_de_casitas"
   ]
  },
  {
   "cell_type": "code",
   "execution_count": 157,
   "id": "7b7612bb",
   "metadata": {},
   "outputs": [
    {
     "data": {
      "application/vnd.microsoft.datawrangler.viewer.v0+json": {
       "columns": [
        {
         "name": "index",
         "rawType": "int64",
         "type": "integer"
        },
        {
         "name": "entidad",
         "rawType": "int64",
         "type": "integer"
        },
        {
         "name": "mun",
         "rawType": "int64",
         "type": "integer"
        },
        {
         "name": "nom_mun",
         "rawType": "object",
         "type": "string"
        },
        {
         "name": "pobtot",
         "rawType": "int64",
         "type": "integer"
        },
        {
         "name": "tvivparhab",
         "rawType": "int64",
         "type": "integer"
        },
        {
         "name": "vivtot",
         "rawType": "int64",
         "type": "integer"
        },
        {
         "name": "vph_snbien",
         "rawType": "int64",
         "type": "integer"
        },
        {
         "name": "densidad_vivienda",
         "rawType": "float64",
         "type": "float"
        },
        {
         "name": "ratio_casas_ocupadas",
         "rawType": "float64",
         "type": "float"
        }
       ],
       "ref": "79d6593f-4183-4e9c-8e5b-a3ae8cddb6d0",
       "rows": [
        [
         "0",
         "31",
         "1",
         "Abalá",
         "6364",
         "1608",
         "1833",
         "67",
         "3.95771144278607",
         "0.8772504091653028"
        ],
        [
         "1",
         "31",
         "2",
         "Acanceh",
         "15365",
         "3695",
         "4169",
         "136",
         "4.158322056833559",
         "0.8863036699448309"
        ],
        [
         "2",
         "31",
         "3",
         "Akil",
         "10406",
         "2535",
         "2918",
         "212",
         "4.104930966469428",
         "0.8687457162440028"
        ],
        [
         "3",
         "31",
         "4",
         "Baca",
         "5773",
         "1558",
         "1935",
         "40",
         "3.7053915275994864",
         "0.8051679586563307"
        ],
        [
         "4",
         "31",
         "5",
         "Bokobá",
         "2054",
         "579",
         "763",
         "18",
         "3.547495682210708",
         "0.7588466579292268"
        ],
        [
         "5",
         "31",
         "6",
         "Buctzotz",
         "8731",
         "2368",
         "3015",
         "136",
         "3.6870777027027026",
         "0.7854063018242122"
        ],
        [
         "6",
         "31",
         "7",
         "Cacalchén",
         "6835",
         "1780",
         "2117",
         "35",
         "3.8398876404494384",
         "0.8408124704770902"
        ],
        [
         "7",
         "31",
         "8",
         "Calotmul",
         "4144",
         "1088",
         "1343",
         "83",
         "3.8088235294117645",
         "0.810126582278481"
        ],
        [
         "8",
         "31",
         "9",
         "Cansahcab",
         "4703",
         "1285",
         "1596",
         "30",
         "3.6599221789883267",
         "0.8051378446115288"
        ],
        [
         "9",
         "31",
         "10",
         "Cantamayec",
         "2442",
         "531",
         "624",
         "80",
         "4.598870056497175",
         "0.8509615384615384"
        ],
        [
         "10",
         "31",
         "11",
         "Celestún",
         "6852",
         "1821",
         "2316",
         "96",
         "3.7627677100494235",
         "0.7862694300518135"
        ],
        [
         "11",
         "31",
         "12",
         "Cenotillo",
         "3767",
         "1109",
         "1714",
         "107",
         "3.3967538322813344",
         "0.647024504084014"
        ],
        [
         "12",
         "31",
         "13",
         "Conkal",
         "9215",
         "2391",
         "2832",
         "33",
         "3.8540359682141365",
         "0.8442796610169492"
        ],
        [
         "13",
         "31",
         "14",
         "Cuncunul",
         "1613",
         "343",
         "401",
         "29",
         "4.702623906705539",
         "0.8553615960099751"
        ],
        [
         "14",
         "31",
         "15",
         "Cuzamá",
         "4971",
         "1246",
         "1389",
         "52",
         "3.989566613162119",
         "0.8970482361411087"
        ],
        [
         "15",
         "31",
         "16",
         "Chacsinkín",
         "2823",
         "631",
         "713",
         "74",
         "4.473851030110935",
         "0.884992987377279"
        ],
        [
         "16",
         "31",
         "17",
         "Chankom",
         "4485",
         "1042",
         "1219",
         "188",
         "4.3042226487524",
         "0.8547990155865464"
        ],
        [
         "17",
         "31",
         "18",
         "Chapab",
         "3044",
         "777",
         "983",
         "37",
         "3.9176319176319176",
         "0.7904374364191251"
        ],
        [
         "18",
         "31",
         "19",
         "Chemax",
         "33708",
         "7115",
         "8269",
         "1553",
         "4.737596626844694",
         "0.8604426170032652"
        ],
        [
         "19",
         "31",
         "20",
         "Chicxulub Pueblo",
         "4138",
         "1071",
         "1225",
         "36",
         "3.8636788048552755",
         "0.8742857142857143"
        ],
        [
         "20",
         "31",
         "21",
         "Chichimilá",
         "8017",
         "1651",
         "2019",
         "326",
         "4.8558449424591155",
         "0.8177315502724121"
        ],
        [
         "21",
         "31",
         "22",
         "Chikindzonot",
         "4170",
         "878",
         "962",
         "122",
         "4.7494305239179955",
         "0.9126819126819127"
        ],
        [
         "22",
         "31",
         "23",
         "Chocholá",
         "4549",
         "1236",
         "1492",
         "25",
         "3.68042071197411",
         "0.8284182305630027"
        ],
        [
         "23",
         "31",
         "24",
         "Chumayel",
         "3161",
         "743",
         "1000",
         "46",
         "4.2543741588156125",
         "0.743"
        ],
        [
         "24",
         "31",
         "25",
         "Dzán",
         "4943",
         "1085",
         "1396",
         "40",
         "4.555760368663594",
         "0.7772206303724928"
        ],
        [
         "25",
         "31",
         "26",
         "Dzemul",
         "3506",
         "1008",
         "1599",
         "22",
         "3.4781746031746033",
         "0.6303939962476548"
        ],
        [
         "26",
         "31",
         "27",
         "Dzidzantún",
         "8159",
         "2287",
         "3008",
         "75",
         "3.5675557498906865",
         "0.7603058510638298"
        ],
        [
         "27",
         "31",
         "28",
         "Dzilam de Bravo",
         "2494",
         "691",
         "952",
         "26",
         "3.609261939218524",
         "0.7258403361344538"
        ],
        [
         "28",
         "31",
         "29",
         "Dzilam González",
         "5935",
         "1712",
         "2134",
         "60",
         "3.4667056074766354",
         "0.8022492970946579"
        ],
        [
         "29",
         "31",
         "30",
         "Dzitás",
         "3546",
         "843",
         "1123",
         "89",
         "4.2064056939501775",
         "0.7506678539626002"
        ],
        [
         "30",
         "31",
         "31",
         "Dzoncauich",
         "2774",
         "738",
         "910",
         "77",
         "3.758807588075881",
         "0.810989010989011"
        ],
        [
         "31",
         "31",
         "32",
         "Espita",
         "15630",
         "3570",
         "4241",
         "413",
         "4.378151260504202",
         "0.8417825984437632"
        ],
        [
         "32",
         "31",
         "33",
         "Halachó",
         "19100",
         "4748",
         "5727",
         "336",
         "4.022746419545071",
         "0.8290553518421512"
        ],
        [
         "33",
         "31",
         "34",
         "Hocabá",
         "6073",
         "1518",
         "1843",
         "113",
         "4.000658761528327",
         "0.8236570808464461"
        ],
        [
         "34",
         "31",
         "35",
         "Hoctún",
         "5718",
         "1483",
         "1935",
         "87",
         "3.8556979096426165",
         "0.7664082687338502"
        ],
        [
         "35",
         "31",
         "36",
         "Homún",
         "7294",
         "1808",
         "2168",
         "78",
         "4.03429203539823",
         "0.8339483394833949"
        ],
        [
         "36",
         "31",
         "37",
         "Huhí",
         "4851",
         "1334",
         "1611",
         "72",
         "3.636431784107946",
         "0.8280571073867163"
        ],
        [
         "37",
         "31",
         "38",
         "Hunucmá",
         "30765",
         "7230",
         "9214",
         "169",
         "4.255186721991701",
         "0.7846754938137617"
        ],
        [
         "38",
         "31",
         "39",
         "Ixil",
         "3839",
         "925",
         "1114",
         "18",
         "4.15027027027027",
         "0.8303411131059246"
        ],
        [
         "39",
         "31",
         "40",
         "Izamal",
         "26046",
         "6589",
         "8256",
         "258",
         "3.9529518895128244",
         "0.7980862403100775"
        ],
        [
         "40",
         "31",
         "41",
         "Kanasín",
         "78799",
         "20309",
         "28925",
         "175",
         "3.8800039391402827",
         "0.7021261884183233"
        ],
        [
         "41",
         "31",
         "42",
         "Kantunil",
         "5525",
         "1422",
         "1799",
         "82",
         "3.8853727144866386",
         "0.7904391328515842"
        ],
        [
         "42",
         "31",
         "43",
         "Kaua",
         "2771",
         "639",
         "777",
         "63",
         "4.336463223787168",
         "0.8223938223938224"
        ],
        [
         "43",
         "31",
         "44",
         "Kinchil",
         "6578",
         "1644",
         "1984",
         "34",
         "4.0012165450121655",
         "0.8286290322580645"
        ],
        [
         "44",
         "31",
         "45",
         "Kopomá",
         "2451",
         "660",
         "768",
         "21",
         "3.713636363636364",
         "0.859375"
        ],
        [
         "45",
         "31",
         "46",
         "Mama",
         "2900",
         "757",
         "985",
         "41",
         "3.830911492734478",
         "0.7685279187817259"
        ],
        [
         "46",
         "31",
         "47",
         "Maní",
         "5292",
         "1241",
         "1616",
         "65",
         "4.264302981466559",
         "0.7679455445544554"
        ],
        [
         "47",
         "31",
         "48",
         "Maxcanú",
         "21733",
         "5221",
         "5905",
         "331",
         "4.162612526335951",
         "0.8841659610499577"
        ],
        [
         "48",
         "31",
         "49",
         "Mayapán",
         "3275",
         "756",
         "848",
         "110",
         "4.332010582010582",
         "0.8915094339622641"
        ],
        [
         "49",
         "31",
         "50",
         "Mérida",
         "831073",
         "229635",
         "287777",
         "1346",
         "3.6191042306268644",
         "0.797961616112476"
        ]
       ],
       "shape": {
        "columns": 9,
        "rows": 106
       }
      },
      "text/html": [
       "<div>\n",
       "<style scoped>\n",
       "    .dataframe tbody tr th:only-of-type {\n",
       "        vertical-align: middle;\n",
       "    }\n",
       "\n",
       "    .dataframe tbody tr th {\n",
       "        vertical-align: top;\n",
       "    }\n",
       "\n",
       "    .dataframe thead th {\n",
       "        text-align: right;\n",
       "    }\n",
       "</style>\n",
       "<table border=\"1\" class=\"dataframe\">\n",
       "  <thead>\n",
       "    <tr style=\"text-align: right;\">\n",
       "      <th></th>\n",
       "      <th>entidad</th>\n",
       "      <th>mun</th>\n",
       "      <th>nom_mun</th>\n",
       "      <th>pobtot</th>\n",
       "      <th>tvivparhab</th>\n",
       "      <th>vivtot</th>\n",
       "      <th>vph_snbien</th>\n",
       "      <th>densidad_vivienda</th>\n",
       "      <th>ratio_casas_ocupadas</th>\n",
       "    </tr>\n",
       "  </thead>\n",
       "  <tbody>\n",
       "    <tr>\n",
       "      <th>0</th>\n",
       "      <td>31</td>\n",
       "      <td>1</td>\n",
       "      <td>Abalá</td>\n",
       "      <td>6364</td>\n",
       "      <td>1608</td>\n",
       "      <td>1833</td>\n",
       "      <td>67</td>\n",
       "      <td>3.957711</td>\n",
       "      <td>0.877250</td>\n",
       "    </tr>\n",
       "    <tr>\n",
       "      <th>1</th>\n",
       "      <td>31</td>\n",
       "      <td>2</td>\n",
       "      <td>Acanceh</td>\n",
       "      <td>15365</td>\n",
       "      <td>3695</td>\n",
       "      <td>4169</td>\n",
       "      <td>136</td>\n",
       "      <td>4.158322</td>\n",
       "      <td>0.886304</td>\n",
       "    </tr>\n",
       "    <tr>\n",
       "      <th>2</th>\n",
       "      <td>31</td>\n",
       "      <td>3</td>\n",
       "      <td>Akil</td>\n",
       "      <td>10406</td>\n",
       "      <td>2535</td>\n",
       "      <td>2918</td>\n",
       "      <td>212</td>\n",
       "      <td>4.104931</td>\n",
       "      <td>0.868746</td>\n",
       "    </tr>\n",
       "    <tr>\n",
       "      <th>3</th>\n",
       "      <td>31</td>\n",
       "      <td>4</td>\n",
       "      <td>Baca</td>\n",
       "      <td>5773</td>\n",
       "      <td>1558</td>\n",
       "      <td>1935</td>\n",
       "      <td>40</td>\n",
       "      <td>3.705392</td>\n",
       "      <td>0.805168</td>\n",
       "    </tr>\n",
       "    <tr>\n",
       "      <th>4</th>\n",
       "      <td>31</td>\n",
       "      <td>5</td>\n",
       "      <td>Bokobá</td>\n",
       "      <td>2054</td>\n",
       "      <td>579</td>\n",
       "      <td>763</td>\n",
       "      <td>18</td>\n",
       "      <td>3.547496</td>\n",
       "      <td>0.758847</td>\n",
       "    </tr>\n",
       "    <tr>\n",
       "      <th>...</th>\n",
       "      <td>...</td>\n",
       "      <td>...</td>\n",
       "      <td>...</td>\n",
       "      <td>...</td>\n",
       "      <td>...</td>\n",
       "      <td>...</td>\n",
       "      <td>...</td>\n",
       "      <td>...</td>\n",
       "      <td>...</td>\n",
       "    </tr>\n",
       "    <tr>\n",
       "      <th>101</th>\n",
       "      <td>31</td>\n",
       "      <td>102</td>\n",
       "      <td>Valladolid</td>\n",
       "      <td>74799</td>\n",
       "      <td>17477</td>\n",
       "      <td>23311</td>\n",
       "      <td>1359</td>\n",
       "      <td>4.279854</td>\n",
       "      <td>0.749732</td>\n",
       "    </tr>\n",
       "    <tr>\n",
       "      <th>102</th>\n",
       "      <td>31</td>\n",
       "      <td>103</td>\n",
       "      <td>Xocchel</td>\n",
       "      <td>3243</td>\n",
       "      <td>774</td>\n",
       "      <td>947</td>\n",
       "      <td>54</td>\n",
       "      <td>4.189922</td>\n",
       "      <td>0.817318</td>\n",
       "    </tr>\n",
       "    <tr>\n",
       "      <th>103</th>\n",
       "      <td>31</td>\n",
       "      <td>104</td>\n",
       "      <td>Yaxcabá</td>\n",
       "      <td>14895</td>\n",
       "      <td>3436</td>\n",
       "      <td>4023</td>\n",
       "      <td>658</td>\n",
       "      <td>4.334983</td>\n",
       "      <td>0.854089</td>\n",
       "    </tr>\n",
       "    <tr>\n",
       "      <th>104</th>\n",
       "      <td>31</td>\n",
       "      <td>105</td>\n",
       "      <td>Yaxkukul</td>\n",
       "      <td>2895</td>\n",
       "      <td>764</td>\n",
       "      <td>897</td>\n",
       "      <td>17</td>\n",
       "      <td>3.789267</td>\n",
       "      <td>0.851728</td>\n",
       "    </tr>\n",
       "    <tr>\n",
       "      <th>105</th>\n",
       "      <td>31</td>\n",
       "      <td>106</td>\n",
       "      <td>Yobaín</td>\n",
       "      <td>2162</td>\n",
       "      <td>628</td>\n",
       "      <td>992</td>\n",
       "      <td>20</td>\n",
       "      <td>3.442675</td>\n",
       "      <td>0.633065</td>\n",
       "    </tr>\n",
       "  </tbody>\n",
       "</table>\n",
       "<p>106 rows × 9 columns</p>\n",
       "</div>"
      ],
      "text/plain": [
       "     entidad  mun     nom_mun  pobtot  tvivparhab  vivtot  vph_snbien  \\\n",
       "0         31    1       Abalá    6364        1608    1833          67   \n",
       "1         31    2     Acanceh   15365        3695    4169         136   \n",
       "2         31    3        Akil   10406        2535    2918         212   \n",
       "3         31    4        Baca    5773        1558    1935          40   \n",
       "4         31    5      Bokobá    2054         579     763          18   \n",
       "..       ...  ...         ...     ...         ...     ...         ...   \n",
       "101       31  102  Valladolid   74799       17477   23311        1359   \n",
       "102       31  103     Xocchel    3243         774     947          54   \n",
       "103       31  104     Yaxcabá   14895        3436    4023         658   \n",
       "104       31  105    Yaxkukul    2895         764     897          17   \n",
       "105       31  106      Yobaín    2162         628     992          20   \n",
       "\n",
       "     densidad_vivienda  ratio_casas_ocupadas  \n",
       "0             3.957711              0.877250  \n",
       "1             4.158322              0.886304  \n",
       "2             4.104931              0.868746  \n",
       "3             3.705392              0.805168  \n",
       "4             3.547496              0.758847  \n",
       "..                 ...                   ...  \n",
       "101           4.279854              0.749732  \n",
       "102           4.189922              0.817318  \n",
       "103           4.334983              0.854089  \n",
       "104           3.789267              0.851728  \n",
       "105           3.442675              0.633065  \n",
       "\n",
       "[106 rows x 9 columns]"
      ]
     },
     "execution_count": 157,
     "metadata": {},
     "output_type": "execute_result"
    }
   ],
   "source": [
    "clean_data"
   ]
  },
  {
   "cell_type": "code",
   "execution_count": 158,
   "id": "0ac29aaa",
   "metadata": {},
   "outputs": [
    {
     "data": {
      "text/plain": [
       "<Axes: >"
      ]
     },
     "execution_count": 158,
     "metadata": {},
     "output_type": "execute_result"
    },
    {
     "data": {
      "image/png": "[encoded data removed]",
      "text/plain": [
       "<Figure size 640x480 with 1 Axes>"
      ]
     },
     "metadata": {},
     "output_type": "display_data"
    }
   ],
   "source": [
    "clean_data.sort_values('densidad_vivienda')['ratio_casas_ocupadas'].plot(kind='box')"
   ]
  },
  {
   "cell_type": "markdown",
   "id": "f9a25982",
   "metadata": {},
   "source": [
    "Esta metrica para la siguiente"
   ]
  },
  {
   "cell_type": "code",
   "execution_count": 159,
   "id": "3e146d3e",
   "metadata": {},
   "outputs": [
    {
     "data": {
      "application/vnd.microsoft.datawrangler.viewer.v0+json": {
       "columns": [
        {
         "name": "index",
         "rawType": "int64",
         "type": "integer"
        },
        {
         "name": "entidad",
         "rawType": "int64",
         "type": "integer"
        },
        {
         "name": "mun",
         "rawType": "int64",
         "type": "integer"
        },
        {
         "name": "nom_mun",
         "rawType": "object",
         "type": "string"
        },
        {
         "name": "pobtot",
         "rawType": "int64",
         "type": "integer"
        },
        {
         "name": "tvivparhab",
         "rawType": "int64",
         "type": "integer"
        },
        {
         "name": "vivtot",
         "rawType": "int64",
         "type": "integer"
        },
        {
         "name": "vph_snbien",
         "rawType": "int64",
         "type": "integer"
        },
        {
         "name": "densidad_vivienda",
         "rawType": "float64",
         "type": "float"
        },
        {
         "name": "ratio_casas_ocupadas",
         "rawType": "float64",
         "type": "float"
        },
        {
         "name": "viviendas_sinbien",
         "rawType": "float64",
         "type": "float"
        }
       ],
       "ref": "f3c4727b-af4b-4b7b-b192-5b6000c5650d",
       "rows": [
        [
         "0",
         "31",
         "1",
         "Abalá",
         "6364",
         "1608",
         "1833",
         "67",
         "3.95771144278607",
         "0.8772504091653028",
         "0.036552100381887616"
        ],
        [
         "1",
         "31",
         "2",
         "Acanceh",
         "15365",
         "3695",
         "4169",
         "136",
         "4.158322056833559",
         "0.8863036699448309",
         "0.0326217318301751"
        ],
        [
         "2",
         "31",
         "3",
         "Akil",
         "10406",
         "2535",
         "2918",
         "212",
         "4.104930966469428",
         "0.8687457162440028",
         "0.0726525017135024"
        ],
        [
         "3",
         "31",
         "4",
         "Baca",
         "5773",
         "1558",
         "1935",
         "40",
         "3.7053915275994864",
         "0.8051679586563307",
         "0.020671834625323"
        ],
        [
         "4",
         "31",
         "5",
         "Bokobá",
         "2054",
         "579",
         "763",
         "18",
         "3.547495682210708",
         "0.7588466579292268",
         "0.023591087811271297"
        ],
        [
         "5",
         "31",
         "6",
         "Buctzotz",
         "8731",
         "2368",
         "3015",
         "136",
         "3.6870777027027026",
         "0.7854063018242122",
         "0.045107794361525705"
        ],
        [
         "6",
         "31",
         "7",
         "Cacalchén",
         "6835",
         "1780",
         "2117",
         "35",
         "3.8398876404494384",
         "0.8408124704770902",
         "0.01653282947567312"
        ],
        [
         "7",
         "31",
         "8",
         "Calotmul",
         "4144",
         "1088",
         "1343",
         "83",
         "3.8088235294117645",
         "0.810126582278481",
         "0.06180193596425912"
        ],
        [
         "8",
         "31",
         "9",
         "Cansahcab",
         "4703",
         "1285",
         "1596",
         "30",
         "3.6599221789883267",
         "0.8051378446115288",
         "0.018796992481203006"
        ],
        [
         "9",
         "31",
         "10",
         "Cantamayec",
         "2442",
         "531",
         "624",
         "80",
         "4.598870056497175",
         "0.8509615384615384",
         "0.1282051282051282"
        ],
        [
         "10",
         "31",
         "11",
         "Celestún",
         "6852",
         "1821",
         "2316",
         "96",
         "3.7627677100494235",
         "0.7862694300518135",
         "0.04145077720207254"
        ],
        [
         "11",
         "31",
         "12",
         "Cenotillo",
         "3767",
         "1109",
         "1714",
         "107",
         "3.3967538322813344",
         "0.647024504084014",
         "0.062427071178529754"
        ],
        [
         "12",
         "31",
         "13",
         "Conkal",
         "9215",
         "2391",
         "2832",
         "33",
         "3.8540359682141365",
         "0.8442796610169492",
         "0.011652542372881356"
        ],
        [
         "13",
         "31",
         "14",
         "Cuncunul",
         "1613",
         "343",
         "401",
         "29",
         "4.702623906705539",
         "0.8553615960099751",
         "0.07231920199501247"
        ],
        [
         "14",
         "31",
         "15",
         "Cuzamá",
         "4971",
         "1246",
         "1389",
         "52",
         "3.989566613162119",
         "0.8970482361411087",
         "0.037437005039596835"
        ],
        [
         "15",
         "31",
         "16",
         "Chacsinkín",
         "2823",
         "631",
         "713",
         "74",
         "4.473851030110935",
         "0.884992987377279",
         "0.10378681626928471"
        ],
        [
         "16",
         "31",
         "17",
         "Chankom",
         "4485",
         "1042",
         "1219",
         "188",
         "4.3042226487524",
         "0.8547990155865464",
         "0.1542247744052502"
        ],
        [
         "17",
         "31",
         "18",
         "Chapab",
         "3044",
         "777",
         "983",
         "37",
         "3.9176319176319176",
         "0.7904374364191251",
         "0.03763987792472025"
        ],
        [
         "18",
         "31",
         "19",
         "Chemax",
         "33708",
         "7115",
         "8269",
         "1553",
         "4.737596626844694",
         "0.8604426170032652",
         "0.18780989236908938"
        ],
        [
         "19",
         "31",
         "20",
         "Chicxulub Pueblo",
         "4138",
         "1071",
         "1225",
         "36",
         "3.8636788048552755",
         "0.8742857142857143",
         "0.029387755102040815"
        ],
        [
         "20",
         "31",
         "21",
         "Chichimilá",
         "8017",
         "1651",
         "2019",
         "326",
         "4.8558449424591155",
         "0.8177315502724121",
         "0.16146607231302626"
        ],
        [
         "21",
         "31",
         "22",
         "Chikindzonot",
         "4170",
         "878",
         "962",
         "122",
         "4.7494305239179955",
         "0.9126819126819127",
         "0.12681912681912683"
        ],
        [
         "22",
         "31",
         "23",
         "Chocholá",
         "4549",
         "1236",
         "1492",
         "25",
         "3.68042071197411",
         "0.8284182305630027",
         "0.01675603217158177"
        ],
        [
         "23",
         "31",
         "24",
         "Chumayel",
         "3161",
         "743",
         "1000",
         "46",
         "4.2543741588156125",
         "0.743",
         "0.046"
        ],
        [
         "24",
         "31",
         "25",
         "Dzán",
         "4943",
         "1085",
         "1396",
         "40",
         "4.555760368663594",
         "0.7772206303724928",
         "0.02865329512893983"
        ],
        [
         "25",
         "31",
         "26",
         "Dzemul",
         "3506",
         "1008",
         "1599",
         "22",
         "3.4781746031746033",
         "0.6303939962476548",
         "0.013758599124452783"
        ],
        [
         "26",
         "31",
         "27",
         "Dzidzantún",
         "8159",
         "2287",
         "3008",
         "75",
         "3.5675557498906865",
         "0.7603058510638298",
         "0.024933510638297872"
        ],
        [
         "27",
         "31",
         "28",
         "Dzilam de Bravo",
         "2494",
         "691",
         "952",
         "26",
         "3.609261939218524",
         "0.7258403361344538",
         "0.0273109243697479"
        ],
        [
         "28",
         "31",
         "29",
         "Dzilam González",
         "5935",
         "1712",
         "2134",
         "60",
         "3.4667056074766354",
         "0.8022492970946579",
         "0.028116213683223992"
        ],
        [
         "29",
         "31",
         "30",
         "Dzitás",
         "3546",
         "843",
         "1123",
         "89",
         "4.2064056939501775",
         "0.7506678539626002",
         "0.0792520035618878"
        ],
        [
         "30",
         "31",
         "31",
         "Dzoncauich",
         "2774",
         "738",
         "910",
         "77",
         "3.758807588075881",
         "0.810989010989011",
         "0.08461538461538462"
        ],
        [
         "31",
         "31",
         "32",
         "Espita",
         "15630",
         "3570",
         "4241",
         "413",
         "4.378151260504202",
         "0.8417825984437632",
         "0.09738269276114124"
        ],
        [
         "32",
         "31",
         "33",
         "Halachó",
         "19100",
         "4748",
         "5727",
         "336",
         "4.022746419545071",
         "0.8290553518421512",
         "0.058669460450497646"
        ],
        [
         "33",
         "31",
         "34",
         "Hocabá",
         "6073",
         "1518",
         "1843",
         "113",
         "4.000658761528327",
         "0.8236570808464461",
         "0.061313076505697235"
        ],
        [
         "34",
         "31",
         "35",
         "Hoctún",
         "5718",
         "1483",
         "1935",
         "87",
         "3.8556979096426165",
         "0.7664082687338502",
         "0.04496124031007752"
        ],
        [
         "35",
         "31",
         "36",
         "Homún",
         "7294",
         "1808",
         "2168",
         "78",
         "4.03429203539823",
         "0.8339483394833949",
         "0.035977859778597784"
        ],
        [
         "36",
         "31",
         "37",
         "Huhí",
         "4851",
         "1334",
         "1611",
         "72",
         "3.636431784107946",
         "0.8280571073867163",
         "0.0446927374301676"
        ],
        [
         "37",
         "31",
         "38",
         "Hunucmá",
         "30765",
         "7230",
         "9214",
         "169",
         "4.255186721991701",
         "0.7846754938137617",
         "0.018341654004775342"
        ],
        [
         "38",
         "31",
         "39",
         "Ixil",
         "3839",
         "925",
         "1114",
         "18",
         "4.15027027027027",
         "0.8303411131059246",
         "0.01615798922800718"
        ],
        [
         "39",
         "31",
         "40",
         "Izamal",
         "26046",
         "6589",
         "8256",
         "258",
         "3.9529518895128244",
         "0.7980862403100775",
         "0.03125"
        ],
        [
         "40",
         "31",
         "41",
         "Kanasín",
         "78799",
         "20309",
         "28925",
         "175",
         "3.8800039391402827",
         "0.7021261884183233",
         "0.006050129645635264"
        ],
        [
         "41",
         "31",
         "42",
         "Kantunil",
         "5525",
         "1422",
         "1799",
         "82",
         "3.8853727144866386",
         "0.7904391328515842",
         "0.045580878265703166"
        ],
        [
         "42",
         "31",
         "43",
         "Kaua",
         "2771",
         "639",
         "777",
         "63",
         "4.336463223787168",
         "0.8223938223938224",
         "0.08108108108108109"
        ],
        [
         "43",
         "31",
         "44",
         "Kinchil",
         "6578",
         "1644",
         "1984",
         "34",
         "4.0012165450121655",
         "0.8286290322580645",
         "0.017137096774193547"
        ],
        [
         "44",
         "31",
         "45",
         "Kopomá",
         "2451",
         "660",
         "768",
         "21",
         "3.713636363636364",
         "0.859375",
         "0.02734375"
        ],
        [
         "45",
         "31",
         "46",
         "Mama",
         "2900",
         "757",
         "985",
         "41",
         "3.830911492734478",
         "0.7685279187817259",
         "0.0416243654822335"
        ],
        [
         "46",
         "31",
         "47",
         "Maní",
         "5292",
         "1241",
         "1616",
         "65",
         "4.264302981466559",
         "0.7679455445544554",
         "0.040222772277227724"
        ],
        [
         "47",
         "31",
         "48",
         "Maxcanú",
         "21733",
         "5221",
         "5905",
         "331",
         "4.162612526335951",
         "0.8841659610499577",
         "0.05605419136325148"
        ],
        [
         "48",
         "31",
         "49",
         "Mayapán",
         "3275",
         "756",
         "848",
         "110",
         "4.332010582010582",
         "0.8915094339622641",
         "0.12971698113207547"
        ],
        [
         "49",
         "31",
         "50",
         "Mérida",
         "831073",
         "229635",
         "287777",
         "1346",
         "3.6191042306268644",
         "0.797961616112476",
         "0.0046772327183895865"
        ]
       ],
       "shape": {
        "columns": 10,
        "rows": 106
       }
      },
      "text/html": [
       "<div>\n",
       "<style scoped>\n",
       "    .dataframe tbody tr th:only-of-type {\n",
       "        vertical-align: middle;\n",
       "    }\n",
       "\n",
       "    .dataframe tbody tr th {\n",
       "        vertical-align: top;\n",
       "    }\n",
       "\n",
       "    .dataframe thead th {\n",
       "        text-align: right;\n",
       "    }\n",
       "</style>\n",
       "<table border=\"1\" class=\"dataframe\">\n",
       "  <thead>\n",
       "    <tr style=\"text-align: right;\">\n",
       "      <th></th>\n",
       "      <th>entidad</th>\n",
       "      <th>mun</th>\n",
       "      <th>nom_mun</th>\n",
       "      <th>pobtot</th>\n",
       "      <th>tvivparhab</th>\n",
       "      <th>vivtot</th>\n",
       "      <th>vph_snbien</th>\n",
       "      <th>densidad_vivienda</th>\n",
       "      <th>ratio_casas_ocupadas</th>\n",
       "      <th>viviendas_sinbien</th>\n",
       "    </tr>\n",
       "  </thead>\n",
       "  <tbody>\n",
       "    <tr>\n",
       "      <th>0</th>\n",
       "      <td>31</td>\n",
       "      <td>1</td>\n",
       "      <td>Abalá</td>\n",
       "      <td>6364</td>\n",
       "      <td>1608</td>\n",
       "      <td>1833</td>\n",
       "      <td>67</td>\n",
       "      <td>3.957711</td>\n",
       "      <td>0.877250</td>\n",
       "      <td>0.036552</td>\n",
       "    </tr>\n",
       "    <tr>\n",
       "      <th>1</th>\n",
       "      <td>31</td>\n",
       "      <td>2</td>\n",
       "      <td>Acanceh</td>\n",
       "      <td>15365</td>\n",
       "      <td>3695</td>\n",
       "      <td>4169</td>\n",
       "      <td>136</td>\n",
       "      <td>4.158322</td>\n",
       "      <td>0.886304</td>\n",
       "      <td>0.032622</td>\n",
       "    </tr>\n",
       "    <tr>\n",
       "      <th>2</th>\n",
       "      <td>31</td>\n",
       "      <td>3</td>\n",
       "      <td>Akil</td>\n",
       "      <td>10406</td>\n",
       "      <td>2535</td>\n",
       "      <td>2918</td>\n",
       "      <td>212</td>\n",
       "      <td>4.104931</td>\n",
       "      <td>0.868746</td>\n",
       "      <td>0.072653</td>\n",
       "    </tr>\n",
       "    <tr>\n",
       "      <th>3</th>\n",
       "      <td>31</td>\n",
       "      <td>4</td>\n",
       "      <td>Baca</td>\n",
       "      <td>5773</td>\n",
       "      <td>1558</td>\n",
       "      <td>1935</td>\n",
       "      <td>40</td>\n",
       "      <td>3.705392</td>\n",
       "      <td>0.805168</td>\n",
       "      <td>0.020672</td>\n",
       "    </tr>\n",
       "    <tr>\n",
       "      <th>4</th>\n",
       "      <td>31</td>\n",
       "      <td>5</td>\n",
       "      <td>Bokobá</td>\n",
       "      <td>2054</td>\n",
       "      <td>579</td>\n",
       "      <td>763</td>\n",
       "      <td>18</td>\n",
       "      <td>3.547496</td>\n",
       "      <td>0.758847</td>\n",
       "      <td>0.023591</td>\n",
       "    </tr>\n",
       "    <tr>\n",
       "      <th>...</th>\n",
       "      <td>...</td>\n",
       "      <td>...</td>\n",
       "      <td>...</td>\n",
       "      <td>...</td>\n",
       "      <td>...</td>\n",
       "      <td>...</td>\n",
       "      <td>...</td>\n",
       "      <td>...</td>\n",
       "      <td>...</td>\n",
       "      <td>...</td>\n",
       "    </tr>\n",
       "    <tr>\n",
       "      <th>101</th>\n",
       "      <td>31</td>\n",
       "      <td>102</td>\n",
       "      <td>Valladolid</td>\n",
       "      <td>74799</td>\n",
       "      <td>17477</td>\n",
       "      <td>23311</td>\n",
       "      <td>1359</td>\n",
       "      <td>4.279854</td>\n",
       "      <td>0.749732</td>\n",
       "      <td>0.058299</td>\n",
       "    </tr>\n",
       "    <tr>\n",
       "      <th>102</th>\n",
       "      <td>31</td>\n",
       "      <td>103</td>\n",
       "      <td>Xocchel</td>\n",
       "      <td>3243</td>\n",
       "      <td>774</td>\n",
       "      <td>947</td>\n",
       "      <td>54</td>\n",
       "      <td>4.189922</td>\n",
       "      <td>0.817318</td>\n",
       "      <td>0.057022</td>\n",
       "    </tr>\n",
       "    <tr>\n",
       "      <th>103</th>\n",
       "      <td>31</td>\n",
       "      <td>104</td>\n",
       "      <td>Yaxcabá</td>\n",
       "      <td>14895</td>\n",
       "      <td>3436</td>\n",
       "      <td>4023</td>\n",
       "      <td>658</td>\n",
       "      <td>4.334983</td>\n",
       "      <td>0.854089</td>\n",
       "      <td>0.163560</td>\n",
       "    </tr>\n",
       "    <tr>\n",
       "      <th>104</th>\n",
       "      <td>31</td>\n",
       "      <td>105</td>\n",
       "      <td>Yaxkukul</td>\n",
       "      <td>2895</td>\n",
       "      <td>764</td>\n",
       "      <td>897</td>\n",
       "      <td>17</td>\n",
       "      <td>3.789267</td>\n",
       "      <td>0.851728</td>\n",
       "      <td>0.018952</td>\n",
       "    </tr>\n",
       "    <tr>\n",
       "      <th>105</th>\n",
       "      <td>31</td>\n",
       "      <td>106</td>\n",
       "      <td>Yobaín</td>\n",
       "      <td>2162</td>\n",
       "      <td>628</td>\n",
       "      <td>992</td>\n",
       "      <td>20</td>\n",
       "      <td>3.442675</td>\n",
       "      <td>0.633065</td>\n",
       "      <td>0.020161</td>\n",
       "    </tr>\n",
       "  </tbody>\n",
       "</table>\n",
       "<p>106 rows × 10 columns</p>\n",
       "</div>"
      ],
      "text/plain": [
       "     entidad  mun     nom_mun  pobtot  tvivparhab  vivtot  vph_snbien  \\\n",
       "0         31    1       Abalá    6364        1608    1833          67   \n",
       "1         31    2     Acanceh   15365        3695    4169         136   \n",
       "2         31    3        Akil   10406        2535    2918         212   \n",
       "3         31    4        Baca    5773        1558    1935          40   \n",
       "4         31    5      Bokobá    2054         579     763          18   \n",
       "..       ...  ...         ...     ...         ...     ...         ...   \n",
       "101       31  102  Valladolid   74799       17477   23311        1359   \n",
       "102       31  103     Xocchel    3243         774     947          54   \n",
       "103       31  104     Yaxcabá   14895        3436    4023         658   \n",
       "104       31  105    Yaxkukul    2895         764     897          17   \n",
       "105       31  106      Yobaín    2162         628     992          20   \n",
       "\n",
       "     densidad_vivienda  ratio_casas_ocupadas  viviendas_sinbien  \n",
       "0             3.957711              0.877250           0.036552  \n",
       "1             4.158322              0.886304           0.032622  \n",
       "2             4.104931              0.868746           0.072653  \n",
       "3             3.705392              0.805168           0.020672  \n",
       "4             3.547496              0.758847           0.023591  \n",
       "..                 ...                   ...                ...  \n",
       "101           4.279854              0.749732           0.058299  \n",
       "102           4.189922              0.817318           0.057022  \n",
       "103           4.334983              0.854089           0.163560  \n",
       "104           3.789267              0.851728           0.018952  \n",
       "105           3.442675              0.633065           0.020161  \n",
       "\n",
       "[106 rows x 10 columns]"
      ]
     },
     "execution_count": 159,
     "metadata": {},
     "output_type": "execute_result"
    }
   ],
   "source": [
    "viviendas_sinbien = clean_data['vph_snbien'] / clean_data['vivtot']\n",
    "clean_data['viviendas_sinbien'] = viviendas_sinbien\n",
    "clean_data"
   ]
  },
  {
   "cell_type": "code",
   "execution_count": 160,
   "id": "a62cce68",
   "metadata": {},
   "outputs": [
    {
     "data": {
      "text/plain": [
       "<Axes: >"
      ]
     },
     "execution_count": 160,
     "metadata": {},
     "output_type": "execute_result"
    },
    {
     "data": {
      "image/png": "[encoded data removed]",
      "text/plain": [
       "<Figure size 640x480 with 1 Axes>"
      ]
     },
     "metadata": {},
     "output_type": "display_data"
    }
   ],
   "source": [
    "clean_data.sort_values('densidad_vivienda')['densidad_vivienda'].plot(kind='box')"
   ]
  }
 ],
 "metadata": {
  "kernelspec": {
   "display_name": "mypandas",
   "language": "python",
   "name": "python3"
  },
  "language_info": {
   "codemirror_mode": {
    "name": "ipython",
    "version": 3
   },
   "file_extension": ".py",
   "mimetype": "text/x-python",
   "name": "python",
   "nbconvert_exporter": "python",
   "pygments_lexer": "ipython3",
   "version": "3.13.7"
  }
 },
 "nbformat": 4,
 "nbformat_minor": 5
}
